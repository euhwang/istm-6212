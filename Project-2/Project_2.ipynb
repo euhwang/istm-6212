{
 "cells": [
  {
   "cell_type": "markdown",
   "metadata": {},
   "source": [
    "# Project 02 - Due Friday, November 11 at 12pm\n",
    "\n",
    "*Objectives*: Gain experience loading a transactional dataset into a relational database model you define yourself and using SQL to explore its contents. Transform the data into a star schema, documenting the schema visually, and explore the transformed data analytically by writing and executing a number of SQL queries using common syntax and functions and describing your findings.  Gain practice working on these tasks with a partner.\n",
    "\n",
    "*Grading criteria*: The tasks should all be completed, and questions should all be answered with SQL queries, diagrams, and charts in the space provided, unless a text answer is requested.  The notebook itself should be completely reproducible at datanotebook.org, from start to finish: another person should be able to use the same code to obtain the same results as yours.  Note that you will receive no more than partial credit if you do not add text/markdown cells explaining your thinking at each major step in each problem.\n",
    "\n",
    "*Attestation*: **Work in pairs**.  At the end of your submitted notebook, identify the work each partner performed and attest that each contributed substantially to the work.\n",
    "\n",
    "*Deadline*: Friday, November 11, 12pm.  One member of each pair must submit your notebook to Blackboard; you should not both submit it separately.  You may each push a copy to your own GitHub repository.\n",
    "\n",
    "\n",
    "## Setup - select and obtain data\n",
    "\n",
    "The US City Open Data Census has a variety of [transactional data from all over the country](http://us-city.census.okfn.org/).  Select one topic and one city from this Census, download the data, and explain your reason for this choice before proceeding.  Provide a link to the web page for the data set you've chosen.\n",
    "\n",
    "I strongly encourage you to select a dataset from among the following topics:  Crime, Property Assessment, Campaign Finance Contributions, Service Requests (311), and Web Analytics.\n",
    "\n",
    "By *transactional* data I mean records at the grain of one event per business process.  In the case of Service Requests (311), for example, that would require data at the level of each individual report of a service request.  If this isn't clear, think about the bike trip data - each individual ride was included - and look for data at that level of event/process specificity.  Avoid data like the Connecticut boating data, which was summarized by year, not individual transactions.\n",
    "\n",
    "Please aim for a dataset of at least 10,000 individual records, but less than 250,000 records.  A little more or a little less is okay, but try to stay within these limits."
   ]
  },
  {
   "cell_type": "markdown",
   "metadata": {},
   "source": [
    "## Problem 1 - examine the data (20 points)\n",
    "\n",
    "Use `csvstat`, `pandas`, or other tools as you see fit and observe the contents of your dataset.  Review important points from any metadata provided.  Describe what you see:  What do the columns mean?  Are there null values?  Which columns interest you the most?  Which columns present some opportunities, challenges, or questions you would like to ask?"
   ]
  },
  {
   "cell_type": "markdown",
   "metadata": {},
   "source": [
    "Using link below, obtain data to be used in the analysis.  We chose to use Louisiana crime data."
   ]
  },
  {
   "cell_type": "code",
   "execution_count": 1,
   "metadata": {
    "collapsed": false
   },
   "outputs": [
    {
     "name": "stdout",
     "output_type": "stream",
     "text": [
      "--2016-11-09 00:59:03--  https://data.brla.gov/api/views/fabb-cnnu/rows.csv\n",
      "Resolving data.brla.gov (data.brla.gov)... 52.206.140.199\n",
      "Connecting to data.brla.gov (data.brla.gov)|52.206.140.199|:443... connected.\n",
      "HTTP request sent, awaiting response... 200 OK\n",
      "Length: 59876288 (57M) [text/csv]\n",
      "Saving to: ‘rows.csv’\n",
      "\n",
      "rows.csv            100%[=====================>]  57.10M  74.3MB/s   in 0.8s   \n",
      "\n",
      "Last-modified header invalid -- time-stamp ignored.\n",
      "2016-11-09 00:59:04 (74.3 MB/s) - ‘rows.csv’ saved [59876288/59876288]\n",
      "\n"
     ]
    }
   ],
   "source": [
    "!wget https://data.brla.gov/api/views/fabb-cnnu/rows.csv"
   ]
  },
  {
   "cell_type": "markdown",
   "metadata": {},
   "source": [
    "The row count for the dataset is printed below using csvstat.  Note that this dataset is larger than the 250,000 limit, but it is limited to about 30,000 rows later in the analysis.  Also, the link to this data is updated daily, so please keep this in mind when reviewing the analysis portion, as the values referenced in the markdown cells may be slightly different than the updated data values."
   ]
  },
  {
   "cell_type": "code",
   "execution_count": 2,
   "metadata": {
    "collapsed": false
   },
   "outputs": [
    {
     "name": "stdout",
     "output_type": "stream",
     "text": [
      "Row count: 301170\r\n"
     ]
    }
   ],
   "source": [
    "!csvstat --count rows.csv"
   ]
  },
  {
   "cell_type": "markdown",
   "metadata": {},
   "source": [
    "The column names in the dataset are listed below.  There are 20 columns in the dataset."
   ]
  },
  {
   "cell_type": "code",
   "execution_count": 3,
   "metadata": {
    "collapsed": false
   },
   "outputs": [
    {
     "name": "stdout",
     "output_type": "stream",
     "text": [
      "  1: FILE NUMBER\r\n",
      "  2: OFFENSE DATE\r\n",
      "  3: OFFENSE TIME\r\n",
      "  4: CRIME\r\n",
      "  5: COMMITTED\r\n",
      "  6: OFFENSE\r\n",
      "  7: OFFENSE DESC\r\n",
      "  8: ADDRESS\r\n",
      "  9: ST NUMBER\r\n",
      " 10: ST DIR\r\n",
      " 11: ST NAME\r\n",
      " 12: ST TYPE\r\n",
      " 13: CITY\r\n",
      " 14: STATE\r\n",
      " 15: ZIP\r\n",
      " 16: DISTRICT\r\n",
      " 17: ZONE\r\n",
      " 18: SUBZONE\r\n",
      " 19: COMPLETE DISTRICT\r\n",
      " 20: GEOLOCATION\r\n"
     ]
    }
   ],
   "source": [
    "!csvcut -n rows.csv"
   ]
  },
  {
   "cell_type": "markdown",
   "metadata": {},
   "source": [
    "Below, the general descriptive statistics are generated for each of the attributes in the dataset.  Please note that csvstat may take several minutes to run. It takes, on average, 1 minute and 9 seconds.\n",
    "\n",
    "Given that there are more than 300,000 rows in the csv file, the csvstat command may not work in datanotebook.org."
   ]
  },
  {
   "cell_type": "code",
   "execution_count": 95,
   "metadata": {
    "collapsed": false
   },
   "outputs": [
    {
     "name": "stdout",
     "output_type": "stream",
     "text": [
      "  1. FILE NUMBER\n",
      "\t<type 'int'>\n",
      "\tNulls: True\n",
      "\tMin: 1000000543\n",
      "\tMax: 2500032927\n",
      "\tSum: 392947027158401\n",
      "\tMean: 1323967813.33\n",
      "\tMedian: 1300071591\n",
      "\tStandard Deviation: 169642938.108\n",
      "\tUnique values: 201518\n",
      "\t5 most frequent values:\n",
      "\t\t1200126218:\t76\n",
      "\t\t1400082626:\t26\n",
      "\t\t1600070022:\t25\n",
      "\t\t1300051176:\t24\n",
      "\t\t1600090456:\t22\n",
      "  2. OFFENSE DATE\n",
      "\t<type 'datetime.date'>\n",
      "\tNulls: False\n",
      "\tMin: 2011-01-01\n",
      "\tMax: 2016-11-06\n",
      "\tUnique values: 2137\n",
      "\t5 most frequent values:\n",
      "\t\t2011-03-25:\t287\n",
      "\t\t2011-04-06:\t267\n",
      "\t\t2011-07-01:\t261\n",
      "\t\t2011-04-29:\t256\n",
      "\t\t2011-05-06:\t254\n",
      "  3. OFFENSE TIME\n",
      "\t<type 'unicode'>\n",
      "\tNulls: True\n",
      "\tUnique values: 1449\n",
      "\t5 most frequent values:\n",
      "\t\t1200:\t5351\n",
      "\t\t0000:\t4941\n",
      "\t\t2200:\t4845\n",
      "\t\t1700:\t4755\n",
      "\t\t2100:\t4362\n",
      "\tMax length: 4\n",
      "  4. CRIME\n",
      "\t<type 'unicode'>\n",
      "\tNulls: False\n",
      "\tUnique values: 17\n",
      "\t5 most frequent values:\n",
      "\t\tOTHER:\t89577\n",
      "\t\tTHEFT:\t58482\n",
      "\t\tNARCOTICS:\t28038\n",
      "\t\tBATTERY:\t27640\n",
      "\t\tCRIMINAL DAMAGE TO PROPERTY:\t22844\n",
      "\tMax length: 27\n",
      "  5. COMMITTED\n",
      "\t<type 'unicode'>\n",
      "\tNulls: False\n",
      "\tValues: ATTEMPTED, COMMITTED\n",
      "  6. OFFENSE\n",
      "\t<type 'unicode'>\n",
      "\tNulls: False\n",
      "\tUnique values: 816\n",
      "\t5 most frequent values:\n",
      "\t\t13:67:\t14145\n",
      "\t\t13:56:\t13326\n",
      "\t\t13:35:\t12272\n",
      "\t\t14:67/AI:\t10243\n",
      "\t\t14:62/AD:\t8591\n",
      "\tMax length: 15\n",
      "  7. OFFENSE DESC\n",
      "\t<type 'unicode'>\n",
      "\tNulls: False\n",
      "\tUnique values: 814\n",
      "\t5 most frequent values:\n",
      "\t\tTHEFT/MISD/CC:\t14145\n",
      "\t\tCRIM DAM TO PROP/SIMPLE/CC:\t13326\n",
      "\t\tBATT/SIMPLE/CC:\t12272\n",
      "\t\tTHEFT OVER $200 ALL OTHER:\t10243\n",
      "\t\tBURG/AUTO OVER $200:\t8591\n",
      "\tMax length: 52\n",
      "  8. ADDRESS\n",
      "\t<type 'unicode'>\n",
      "\tNulls: True\n",
      "\tUnique values: 57801\n",
      "\t5 most frequent values:\n",
      "\t\t4445  PLANK RD:\t1264\n",
      "\t\t1100  BOB PETTIT BL:\t1103\n",
      "\t\t4343  DENHAM ST:\t872\n",
      "\t\t9801  CORTANA PL:\t784\n",
      "\t\t1251 N ARDENWOOD DR:\t714\n",
      "\tMax length: 37\n",
      "  9. ST NUMBER\n",
      "\t<type 'int'>\n",
      "\tNulls: True\n",
      "\tMin: 1\n",
      "\tMax: 94000\n",
      "\tSum: 1262405920\n",
      "\tMean: 4260.04913342\n",
      "\tMedian: 3384.0\n",
      "\tStandard Deviation: 3406.53754486\n",
      "\tUnique values: 10610\n",
      "\t5 most frequent values:\n",
      "\t\t1100:\t3893\n",
      "\t\t100:\t2253\n",
      "\t\t300:\t1981\n",
      "\t\t600:\t1937\n",
      "\t\t700:\t1882\n",
      " 10. ST DIR\n",
      "\t<type 'unicode'>\n",
      "\tNulls: True\n",
      "\tValues: S, E, W, N\n",
      " 11. ST NAME\n",
      "\t<type 'unicode'>\n",
      "\tNulls: True\n",
      "\tUnique values: 4113\n",
      "\t5 most frequent values:\n",
      "\t\tFLORIDA:\t13344\n",
      "\t\tPLANK:\t12449\n",
      "\t\tAIRLINE:\t10110\n",
      "\t\tHIGHLAND:\t5060\n",
      "\t\tSCENIC:\t4642\n",
      "\tMax length: 28\n",
      " 12. ST TYPE\n",
      "\t<type 'unicode'>\n",
      "\tNulls: True\n",
      "\tUnique values: 15\n",
      "\t5 most frequent values:\n",
      "\t\tST:\t83123\n",
      "\t\tDR:\t61475\n",
      "\t\tAV:\t40143\n",
      "\t\tRD:\t34895\n",
      "\t\tBL:\t31555\n",
      "\tMax length: 4\n",
      " 13. CITY\n",
      "\t<type 'unicode'>\n",
      "\tNulls: True\n",
      "\tValues: BATON ROUGE\n",
      " 14. STATE\n",
      "\t<type 'unicode'>\n",
      "\tNulls: True\n",
      "\tValues: LA\n",
      " 15. ZIP\n",
      "\t<type 'unicode'>\n",
      "\tNulls: True\n",
      "\tUnique values: 336\n",
      "\t5 most frequent values:\n",
      "\t\t70805:\t43006\n",
      "\t\t70802:\t32796\n",
      "\t\t70815:\t16477\n",
      "\t\t70807:\t14258\n",
      "\t\t70806:\t13549\n",
      "\tMax length: 9\n",
      " 16. DISTRICT\n",
      "\t<type 'unicode'>\n",
      "\tNulls: True\n",
      "\tValues: 1, 3, 2, 4, O\n",
      " 17. ZONE\n",
      "\t<type 'unicode'>\n",
      "\tNulls: True\n",
      "\tUnique values: 8\n",
      "\t5 most frequent values:\n",
      "\t\tC:\t61621\n",
      "\t\tB:\t51458\n",
      "\t\tD:\t48888\n",
      "\t\tF:\t41727\n",
      "\t\tA:\t41568\n",
      "\tMax length: 4\n",
      " 18. SUBZONE\n",
      "\t<type 'unicode'>\n",
      "\tNulls: True\n",
      "\tUnique values: 6\n",
      "\t5 most frequent values:\n",
      "\t\t1:\t134596\n",
      "\t\t2:\t90989\n",
      "\t\t3:\t50747\n",
      "\t\t4:\t4617\n",
      "\t\t5:\t4240\n",
      "\tMax length: 4\n",
      " 19. COMPLETE DISTRICT\n",
      "\t<type 'unicode'>\n",
      "\tNulls: True\n",
      "\tUnique values: 77\n",
      "\t5 most frequent values:\n",
      "\t\t2C3:\t12751\n",
      "\t\t1C1:\t10406\n",
      "\t\t1D1:\t9696\n",
      "\t\t1F1:\t9396\n",
      "\t\t2D1:\t8998\n",
      "\tMax length: 4\n",
      " 20. GEOLOCATION\n",
      "\t<type 'unicode'>\n",
      "\tNulls: True\n",
      "\tUnique values: 98991\n",
      "\t5 most frequent values:\n",
      "\t\t70805\n",
      "(30.487865, -91.151287):\t739\n",
      "\t\t4445 PLANK RD\n",
      "BATON ROUGE, LA 70805\n",
      "(30.490626, -91.156266):\t534\n",
      "\t\t4445 PLANK RD\n",
      "BATON ROUGE, LA\n",
      "(30.490626, -91.156266):\t532\n",
      "\t\t1100 BOB PETTIT BL\n",
      "BATON ROUGE, LA\n",
      "(30.396322, -91.178968):\t505\n",
      "\t\t1100 BOB PETTIT BL\n",
      "BATON ROUGE, LA 70820\n",
      "(30.396322, -91.178968):\t501\n",
      "\tMax length: 81\n",
      "\n",
      "Row count: 301170\n",
      "\n",
      "real\t1m9.369s\n",
      "user\t1m8.673s\n",
      "sys\t0m0.574s\n"
     ]
    }
   ],
   "source": [
    "!time csvstat rows.csv"
   ]
  },
  {
   "cell_type": "markdown",
   "metadata": {},
   "source": [
    "The dataset is composed of crimes reported in Baton Rouge and handled by the Baton Rouge Police Department. Crimes include Burglaries (Vehicle, Residential and Non-residential), Robberies (Individual and Business), Theft, Narcotics, Vice Crimes, Assault, Nuisance, Battery, Firearm, Homicides, Criminal Damage to Property, Sexual Assaults and Juvenile. This crime incident data set includes crime data dating back to January 2011 and the data is updated daily.\n",
    "\n",
    "This is the link to the crimes data for Baton Rouge, LA: http://us-city.census.okfn.org/entry/batonrouge/crime-stats\n",
    "\n",
    "| Field Name | Description|\n",
    "| -----------|------------|\n",
    "|FILE NUMBER|Police Report Number|\n",
    "|OFFENSE DATE|Crime date|\n",
    "|OFFENSE TIME|Crime time|\n",
    "|CRIME|Crime type general category|\n",
    "|COMMITTED|Indicates if the crime was attempted or committed|\n",
    "|OFFENSE|Louisiana Revised Statues (LRS) code of the crime|\n",
    "|OFFENSE DESC|Description of the crime|\n",
    "|ADDRESS|Formatted crime street address|\n",
    "|ST NUMBER|Street number where the crime occurred|\n",
    "|ST DIR|Street direction where the crime occurred|\n",
    "|ST NAME|Street name where the crime occurred|\n",
    "|ST TYPE|Street type where the crime occurred|\n",
    "|CITY|City where the crime occurred|\n",
    "|STATE|State where the crime occurred|\n",
    "|ZIP|Zip code where the crime occurred|\n",
    "|DISTRICT|Police geographical District number where the crime occurred|\n",
    "|ZONE|Police geographical Zone within a District where the crime occurred|\n",
    "|SUBZONE|Police geographical Subzone number within a Zone where the crime occurred|\n",
    "|COMPLETE DISTRICT|Shows concatenated District, Zone and Subzone|\n",
    "|GEOLOCATION|Full crime street address for geocoding|\n",
    "\n",
    "Based off of the information shown above, the following columns had null values:\n",
    "1. File Number\n",
    "2. Offense Time\n",
    "3. Address\n",
    "4. Street Number\n",
    "5. Street Direction\n",
    "6. Street Name\n",
    "7. Street Type\n",
    "8. City\n",
    "9. State\n",
    "10. Zip\n",
    "11. District\n",
    "12. Zone\n",
    "13. Subzone\n",
    "14. Complete District\n",
    "15. Geolocation\n",
    "\n",
    "It is concerning that 15 out of the 20 columns in the dataset have null values, especially fields which could act as identifiers, such as file number.  As seen in the results of the csvstat results above, all of the columns contain repeated values, since the unique values in each of the columns is not equal to the total row count.  This could create some issues when creating the star schema.  Additionally, some of the information in the columns is messy and may be innaccurate.  For example, in referencing the csvstat output for geolocation, the four most frequent locations shown are actually 2 locations with and without the corresponding zip code.  This resulted in slightly different longitude and latitude coordinates.  After googling these locations in Louisiana, the first most common geolocation is actually the Baton Rouge police station.  It seems unlikely that this many crimes would be committed at a police station as the column definition in the metadata suggests, so we will keep this in mind in our analysis.  Also, the geolocation may not be the greatest attribute to use because of the differences for addresses with zip codes versus not.  We take steps to limit the null values in the dataset used for analysis.\n",
    "\n",
    "The columns that interested us the most are time and description fields such as offense date, crime, offense description, and complete district. Since this data set only looks at crimes that occurred in Baton Rouge, the city and state fields do not provide any additional information. However, the zip, district, zone may provide more detailed information such as if certain zip codes or zones had more crimes than others.\n",
    "\n",
    "A few of the questions to explore are listed below:\n",
    "1. Did the crimes increase each year?\n",
    "2. Which crime types occurred the most in Baton Rouge, LA?\n",
    "3. Did certain zones have more crimes than other zones?\n"
   ]
  },
  {
   "cell_type": "markdown",
   "metadata": {},
   "source": [
    "To get a better grasp of the dimensions of the dataset and the nature of the transactions, we filtered the column with the most unique levels in the dataset, and then filtered to a duplicated value in this column.  File number has the most unique values as per the csvstat output, so we use this column to filter by.  File number '1400082626' has 26 instances in the table, so the output below shows the rows in the dataset corresponding to this particular file number.  It seems that each file number can have multiple date time combinations, multiple crimes, and multiple Offense Statutes associated with that particular crime.  In filtering by the most frequent values, it seems that for the overall dataset, these file numbers rarely have address information.  This could suggest some erroneous file number information for those cases which do not have address information, which will be important to consider in our analysis going forward.  Again, when we limit the dataset, we will avoid cases of null address information, and also account for the fact that the data does not have a primary key."
   ]
  },
  {
   "cell_type": "code",
   "execution_count": 4,
   "metadata": {
    "collapsed": false
   },
   "outputs": [
    {
     "name": "stdout",
     "output_type": "stream",
     "text": [
      "|--------------+--------------+--------------+-----------+-----------+-------------+---------------------------------|\n",
      "|  FILE NUMBER | OFFENSE DATE | OFFENSE TIME | CRIME     | COMMITTED | OFFENSE     | OFFENSE DESC                    |\n",
      "|--------------+--------------+--------------+-----------+-----------+-------------+---------------------------------|\n",
      "|  1400082626  | 05/18/2015   | 0910         | NARCOTICS | COMMITTED | 40:971      | POSS/DIST MANF COUNTERFEIT DRG  |\n",
      "|  1400082626  | 03/20/2016   | 1211         | NARCOTICS | COMMITTED | 40:979      | ATT OR CONSPIRACY:DRUGS         |\n",
      "|  1400082626  | 05/18/2015   | 0910         | NARCOTICS | COMMITTED | 40:967A     | DIST/MANF SCH 2 DRUG            |\n",
      "|  1400082626  | 05/18/2015   | 0910         | NARCOTICS | COMMITTED | 40:970A     | DIST/MANF SCH 5 DRUG            |\n",
      "|  1400082626  | 12/02/2015   | 2303         | NARCOTICS | COMMITTED | 40:967      | POSS/DIST MANUF SCHED II        |\n",
      "|  1400082626  | 03/20/2016   | 1211         | NARCOTICS | COMMITTED | 40:968A     | DIST/MANF SCH 3 DRUG            |\n",
      "|  1400082626  | 12/02/2015   | 2303         | NARCOTICS | COMMITTED | 40:969A     | DIST/MANF SCH 4 DRUG            |\n",
      "|  1400082626  | 05/18/2015   | 0910         | NARCOTICS | COMMITTED | 40:979      | ATT OR CONSPIRACY:DRUGS         |\n",
      "|  1400082626  | 03/15/2016   | 2155         | OTHER     | COMMITTED | OTHER       | OTHER/UNLISTED STATUTE          |\n",
      "|  1400082626  | 12/02/2015   | 2303         | NARCOTICS | COMMITTED | 40:979      | ATT OR CONSPIRACY:DRUGS         |\n",
      "|  1400082626  | 12/03/2015   | 2303         | NARCOTICS | COMMITTED | 40:968A     | DIST/MANF SCH 3 DRUG            |\n",
      "|  1400082626  | 05/19/2015   | 0910         | NARCOTICS | COMMITTED | 40:967      | POSS/DIST MANUF SCHED II        |\n",
      "|  1400082626  | 03/15/2016   | 2155         | NARCOTICS | COMMITTED | 40:979      | ATT OR CONSPIRACY:DRUGS         |\n",
      "|  1400082626  | 05/18/2015   | 0900         | NARCOTICS | COMMITTED | 40:971      | POSS/DIST MANF COUNTERFEIT DRG  |\n",
      "|  1400082626  | 09/04/2015   | 0800         | NARCOTICS | COMMITTED | 40:979      | ATT OR CONSPIRACY:DRUGS         |\n",
      "|  1400082626  | 05/18/2015   | 0900         | NARCOTICS | COMMITTED | 40:969A     | DIST/MANF SCH 4 DRUG            |\n",
      "|  1400082626  | 09/04/2015   | 0800         | NARCOTICS | COMMITTED | 40:971B.1.B | OBTAINING CDS BY FRAUD/FORGERY  |\n",
      "|  1400082626  | 05/18/2015   | 1000         | NARCOTICS | COMMITTED | 40:968A     | DIST/MANF SCH 3 DRUG            |\n",
      "|  1400082626  | 05/18/2015   | 1000         | NARCOTICS | COMMITTED | 40:971      | POSS/DIST MANF COUNTERFEIT DRG  |\n",
      "|  1400082626  | 05/18/2015   | 1000         | NARCOTICS | COMMITTED | 40:969A     | DIST/MANF SCH 4 DRUG            |\n",
      "|  1400082626  | 09/04/2015   | 0800         | NARCOTICS | COMMITTED | 40:970A     | DIST/MANF SCH 5 DRUG            |\n",
      "|  1400082626  | 05/18/2015   | 0900         | NARCOTICS | COMMITTED | 40:968A     | DIST/MANF SCH 3 DRUG            |\n",
      "|  1400082626  | 09/04/2015   | 0800         | NARCOTICS | COMMITTED | 40:968A     | DIST/MANF SCH 3 DRUG            |\n",
      "|  1400082626  | 05/18/2015   | 1000         | NARCOTICS | COMMITTED | 40:979      | ATT OR CONSPIRACY:DRUGS         |\n",
      "|  1400082626  | 05/18/2015   | 0900         | NARCOTICS | COMMITTED | 40:979      | ATT OR CONSPIRACY:DRUGS         |\n",
      "|  1400082626  | 05/18/2015   | 0900         | NARCOTICS | COMMITTED | 40:971B.1.B | OBTAINING CDS BY FRAUD/FORGERY  |\n",
      "|--------------+--------------+--------------+-----------+-----------+-------------+---------------------------------|\n",
      "|----------+-----------+--------+---------+---------+------+-------+-----+----------+------+---------+-------------------+--------------|\n",
      "|  ADDRESS | ST NUMBER | ST DIR | ST NAME | ST TYPE | CITY | STATE | ZIP | DISTRICT | ZONE | SUBZONE | COMPLETE DISTRICT | GEOLOCATION  |\n",
      "|----------+-----------+--------+---------+---------+------+-------+-----+----------+------+---------+-------------------+--------------|\n"
     ]
    }
   ],
   "source": [
    "!cat rows.csv | csvcut -c1,2,3,4,5,6,7 | csvgrep -c1 -m \"1400082626\" |csvlook\n",
    "!cat rows.csv | csvcut -c8,9,10,11,12,13,14,15,16,17,18,19,20 | csvgrep -c1 -m \"1400082626\" |csvlook\n",
    "#!cat rows.csv | csvcut -c1,2,3,4,5,6,7 | csvgrep -c1 -m \"1200126218\" |csvlook\n",
    "#!cat rows.csv | csvcut -c8,9,10,11,12,13,14,15,16,17,18,19,20 | csvgrep -c1 -m \"1200126218\" |csvlook"
   ]
  },
  {
   "cell_type": "markdown",
   "metadata": {},
   "source": [
    "## Problem 2 - define a database model, load the data, and explore (20 points)\n",
    "\n",
    "Based on what you found above, create and connect to a new database, define a database table in it, and load this dataset into it.  You may use either of the methods for this step you have seen in earlier class notebooks.  You may choose to eliminate variables/columns if they are not relevant or interesting to you - explain your reasoning if you do.  Either way, you should load a majority of the columns present in the source dataset as it is in its raw form into the database, and all of its rows.\n",
    "\n",
    "Once your data has loaded successfully, run a `COUNT(*)` query to verify that all the data has loaded correctly.\n",
    "\n",
    "Explore the data to zero in on a few themes you would like to further study analytically.  Discuss columns that present opportunities for extraction into dimensions, and identify the specific columns that contain facts you want to measure."
   ]
  },
  {
   "cell_type": "code",
   "execution_count": 2,
   "metadata": {
    "collapsed": false,
    "scrolled": true
   },
   "outputs": [
    {
     "name": "stderr",
     "output_type": "stream",
     "text": [
      "/opt/conda/lib/python3.5/site-packages/IPython/config.py:13: ShimWarning: The `IPython.config` package has been deprecated. You should import from traitlets.config instead.\n",
      "  \"You should import from traitlets.config instead.\", ShimWarning)\n",
      "/opt/conda/lib/python3.5/site-packages/IPython/utils/traitlets.py:5: UserWarning: IPython.utils.traitlets has moved to a top-level traitlets package.\n",
      "  warn(\"IPython.utils.traitlets has moved to a top-level traitlets package.\")\n"
     ]
    }
   ],
   "source": [
    "%load_ext sql"
   ]
  },
  {
   "cell_type": "markdown",
   "metadata": {},
   "source": [
    "*Note*: To use PostgreSQL on datanotebook.org, please uncomment the lines with username of `dbuser,` and also uncomment and run the commented out command below.\n",
    "\n",
    "The following commands drops the database 'project2' if it exists, then creates the database 'project2'."
   ]
  },
  {
   "cell_type": "code",
   "execution_count": 3,
   "metadata": {
    "collapsed": false
   },
   "outputs": [
    {
     "name": "stdout",
     "output_type": "stream",
     "text": [
      "[sudo] password for jovyan: Restarting PostgreSQL 9.5 database server: main.\n"
     ]
    }
   ],
   "source": [
    "!echo 'redspot' | sudo -S service postgresql restart"
   ]
  },
  {
   "cell_type": "code",
   "execution_count": 4,
   "metadata": {
    "collapsed": false
   },
   "outputs": [
    {
     "name": "stdout",
     "output_type": "stream",
     "text": [
      "NOTICE:  database \"project2\" does not exist, skipping\r\n"
     ]
    }
   ],
   "source": [
    "#!dropdb -U euhwang --if-exists project2\n",
    "!dropdb -U dbuser --if-exists project2"
   ]
  },
  {
   "cell_type": "code",
   "execution_count": 5,
   "metadata": {
    "collapsed": true
   },
   "outputs": [],
   "source": [
    "#!createdb -U euhwang project2\n",
    "!createdb -U dbuser project2"
   ]
  },
  {
   "cell_type": "code",
   "execution_count": 6,
   "metadata": {
    "collapsed": false
   },
   "outputs": [
    {
     "data": {
      "text/plain": [
       "'Connected: dbuser@project2'"
      ]
     },
     "execution_count": 6,
     "metadata": {},
     "output_type": "execute_result"
    }
   ],
   "source": [
    "#%sql postgresql://euhwang@localhost:5432/project2\n",
    "%sql postgresql://dbuser@localhost:5432/project2"
   ]
  },
  {
   "cell_type": "markdown",
   "metadata": {},
   "source": [
    "### Create table and import\n",
    "\n",
    "Looking at a sample of the data, we can determine the domain and range for each attribute. \n",
    "\n",
    "Based on the values shown in the csvstat output, we can identify the data type and max length and create the following with the following:"
   ]
  },
  {
   "cell_type": "code",
   "execution_count": 7,
   "metadata": {
    "collapsed": false
   },
   "outputs": [
    {
     "name": "stdout",
     "output_type": "stream",
     "text": [
      "Done.\n",
      "Done.\n"
     ]
    },
    {
     "data": {
      "text/plain": [
       "[]"
      ]
     },
     "execution_count": 7,
     "metadata": {},
     "output_type": "execute_result"
    }
   ],
   "source": [
    "%%sql\n",
    "DROP TABLE IF EXISTS BRcrime;\n",
    "CREATE TABLE BRcrime \n",
    "(\n",
    "    FILE_NUMBER CHAR(10),\n",
    "    OFFENSE_DATE TIMESTAMP,\n",
    "    OFFENSE_TIME VARCHAR(4),\n",
    "    CRIME VARCHAR(27),\n",
    "    COMMITTED VARCHAR(9),\n",
    "    OFFENSE VARCHAR(15),\n",
    "    OFFENSE_DESC VARCHAR(52),\n",
    "    ADDRESS VARCHAR(37),\n",
    "    ST_NUMBER INTEGER,\n",
    "    ST_DIR CHAR(4),\n",
    "    ST_NAME VARCHAR(28),\n",
    "    ST_TYPE CHAR(4),\n",
    "    CITY VARCHAR(11),\n",
    "    STATE CHAR(4),\n",
    "    ZIP CHAR(9),\n",
    "    DISTRICT CHAR(1),\n",
    "    ZONE CHAR(5),\n",
    "    SUBZONE CHAR(5),\n",
    "    COMPLETE_DISTRICT CHAR(5),\n",
    "    GEOLOCATION VARCHAR(81)\n",
    ")"
   ]
  },
  {
   "cell_type": "markdown",
   "metadata": {},
   "source": [
    "Now we'll load the data in more simply.  Note that this **requires** the use of an absolute path, so adjust it to your location:"
   ]
  },
  {
   "cell_type": "code",
   "execution_count": 8,
   "metadata": {
    "collapsed": false
   },
   "outputs": [
    {
     "name": "stdout",
     "output_type": "stream",
     "text": [
      "/home/jovyan/work\r\n"
     ]
    }
   ],
   "source": [
    "!pwd"
   ]
  },
  {
   "cell_type": "code",
   "execution_count": 9,
   "metadata": {
    "collapsed": false
   },
   "outputs": [],
   "source": [
    "#%%sql\n",
    "#COPY BRcrime FROM '/Users/euhwang/Dropbox/ISTM_6212/Project_2/rows.csv'\n",
    "#CSV\n",
    "#HEADER\n",
    "#QUOTE '\"'\n",
    "#DELIMITER ',';"
   ]
  },
  {
   "cell_type": "code",
   "execution_count": 10,
   "metadata": {
    "collapsed": false
   },
   "outputs": [
    {
     "name": "stdout",
     "output_type": "stream",
     "text": [
      "301344 rows affected.\n"
     ]
    },
    {
     "data": {
      "text/plain": [
       "[]"
      ]
     },
     "execution_count": 10,
     "metadata": {},
     "output_type": "execute_result"
    }
   ],
   "source": [
    "%%sql\n",
    "COPY BRcrime FROM '/home/jovyan/work/rows.csv'\n",
    "CSV\n",
    "HEADER\n",
    "QUOTE '\"'\n",
    "DELIMITER ',';"
   ]
  },
  {
   "cell_type": "code",
   "execution_count": 11,
   "metadata": {
    "collapsed": false
   },
   "outputs": [
    {
     "name": "stdout",
     "output_type": "stream",
     "text": [
      "1 rows affected.\n"
     ]
    },
    {
     "data": {
      "text/html": [
       "<table>\n",
       "    <tr>\n",
       "        <th>count</th>\n",
       "    </tr>\n",
       "    <tr>\n",
       "        <td>301344</td>\n",
       "    </tr>\n",
       "</table>"
      ],
      "text/plain": [
       "[(301344,)]"
      ]
     },
     "execution_count": 11,
     "metadata": {},
     "output_type": "execute_result"
    }
   ],
   "source": [
    "%%sql\n",
    "SELECT count(*) FROM BRcrime;"
   ]
  },
  {
   "cell_type": "markdown",
   "metadata": {},
   "source": [
    "The following statement uses the INFORMATION_SCHEMA metadata database to extract a schema from a pgsql instance. This provides a quick overview of the column name, data type, max character length and if there are nullable fields. This allows us to understand the table structure, which will help us with my analysis going forward."
   ]
  },
  {
   "cell_type": "code",
   "execution_count": 12,
   "metadata": {
    "collapsed": false
   },
   "outputs": [
    {
     "name": "stdout",
     "output_type": "stream",
     "text": [
      "20 rows affected.\n"
     ]
    },
    {
     "data": {
      "text/html": [
       "<table>\n",
       "    <tr>\n",
       "        <th>column_name</th>\n",
       "        <th>data_type</th>\n",
       "        <th>character_maximum_length</th>\n",
       "        <th>is_nullable</th>\n",
       "    </tr>\n",
       "    <tr>\n",
       "        <td>file_number</td>\n",
       "        <td>character</td>\n",
       "        <td>10</td>\n",
       "        <td>YES</td>\n",
       "    </tr>\n",
       "    <tr>\n",
       "        <td>offense_date</td>\n",
       "        <td>timestamp without time zone</td>\n",
       "        <td>None</td>\n",
       "        <td>YES</td>\n",
       "    </tr>\n",
       "    <tr>\n",
       "        <td>offense_time</td>\n",
       "        <td>character varying</td>\n",
       "        <td>4</td>\n",
       "        <td>YES</td>\n",
       "    </tr>\n",
       "    <tr>\n",
       "        <td>crime</td>\n",
       "        <td>character varying</td>\n",
       "        <td>27</td>\n",
       "        <td>YES</td>\n",
       "    </tr>\n",
       "    <tr>\n",
       "        <td>committed</td>\n",
       "        <td>character varying</td>\n",
       "        <td>9</td>\n",
       "        <td>YES</td>\n",
       "    </tr>\n",
       "    <tr>\n",
       "        <td>offense</td>\n",
       "        <td>character varying</td>\n",
       "        <td>15</td>\n",
       "        <td>YES</td>\n",
       "    </tr>\n",
       "    <tr>\n",
       "        <td>offense_desc</td>\n",
       "        <td>character varying</td>\n",
       "        <td>52</td>\n",
       "        <td>YES</td>\n",
       "    </tr>\n",
       "    <tr>\n",
       "        <td>address</td>\n",
       "        <td>character varying</td>\n",
       "        <td>37</td>\n",
       "        <td>YES</td>\n",
       "    </tr>\n",
       "    <tr>\n",
       "        <td>st_number</td>\n",
       "        <td>integer</td>\n",
       "        <td>None</td>\n",
       "        <td>YES</td>\n",
       "    </tr>\n",
       "    <tr>\n",
       "        <td>st_dir</td>\n",
       "        <td>character</td>\n",
       "        <td>4</td>\n",
       "        <td>YES</td>\n",
       "    </tr>\n",
       "    <tr>\n",
       "        <td>st_name</td>\n",
       "        <td>character varying</td>\n",
       "        <td>28</td>\n",
       "        <td>YES</td>\n",
       "    </tr>\n",
       "    <tr>\n",
       "        <td>st_type</td>\n",
       "        <td>character</td>\n",
       "        <td>4</td>\n",
       "        <td>YES</td>\n",
       "    </tr>\n",
       "    <tr>\n",
       "        <td>city</td>\n",
       "        <td>character varying</td>\n",
       "        <td>11</td>\n",
       "        <td>YES</td>\n",
       "    </tr>\n",
       "    <tr>\n",
       "        <td>state</td>\n",
       "        <td>character</td>\n",
       "        <td>4</td>\n",
       "        <td>YES</td>\n",
       "    </tr>\n",
       "    <tr>\n",
       "        <td>zip</td>\n",
       "        <td>character</td>\n",
       "        <td>9</td>\n",
       "        <td>YES</td>\n",
       "    </tr>\n",
       "    <tr>\n",
       "        <td>district</td>\n",
       "        <td>character</td>\n",
       "        <td>1</td>\n",
       "        <td>YES</td>\n",
       "    </tr>\n",
       "    <tr>\n",
       "        <td>zone</td>\n",
       "        <td>character</td>\n",
       "        <td>5</td>\n",
       "        <td>YES</td>\n",
       "    </tr>\n",
       "    <tr>\n",
       "        <td>subzone</td>\n",
       "        <td>character</td>\n",
       "        <td>5</td>\n",
       "        <td>YES</td>\n",
       "    </tr>\n",
       "    <tr>\n",
       "        <td>complete_district</td>\n",
       "        <td>character</td>\n",
       "        <td>5</td>\n",
       "        <td>YES</td>\n",
       "    </tr>\n",
       "    <tr>\n",
       "        <td>geolocation</td>\n",
       "        <td>character varying</td>\n",
       "        <td>81</td>\n",
       "        <td>YES</td>\n",
       "    </tr>\n",
       "</table>"
      ],
      "text/plain": [
       "[('file_number', 'character', 10, 'YES'),\n",
       " ('offense_date', 'timestamp without time zone', None, 'YES'),\n",
       " ('offense_time', 'character varying', 4, 'YES'),\n",
       " ('crime', 'character varying', 27, 'YES'),\n",
       " ('committed', 'character varying', 9, 'YES'),\n",
       " ('offense', 'character varying', 15, 'YES'),\n",
       " ('offense_desc', 'character varying', 52, 'YES'),\n",
       " ('address', 'character varying', 37, 'YES'),\n",
       " ('st_number', 'integer', None, 'YES'),\n",
       " ('st_dir', 'character', 4, 'YES'),\n",
       " ('st_name', 'character varying', 28, 'YES'),\n",
       " ('st_type', 'character', 4, 'YES'),\n",
       " ('city', 'character varying', 11, 'YES'),\n",
       " ('state', 'character', 4, 'YES'),\n",
       " ('zip', 'character', 9, 'YES'),\n",
       " ('district', 'character', 1, 'YES'),\n",
       " ('zone', 'character', 5, 'YES'),\n",
       " ('subzone', 'character', 5, 'YES'),\n",
       " ('complete_district', 'character', 5, 'YES'),\n",
       " ('geolocation', 'character varying', 81, 'YES')]"
      ]
     },
     "execution_count": 12,
     "metadata": {},
     "output_type": "execute_result"
    }
   ],
   "source": [
    "%%sql\n",
    "SELECT column_name, data_type, character_maximum_length, is_nullable\n",
    "FROM INFORMATION_SCHEMA.COLUMNS WHERE table_name = 'brcrime';"
   ]
  },
  {
   "cell_type": "markdown",
   "metadata": {},
   "source": [
    "Creating additional columns such as year, month, and day will increase efficiency of analysis, and is best practice in creating a star schema. Now, an analyst working with the data will be able to query these calculated fields directly instead of having to type in \"TO_CHAR(offense_date, 'YYYY')\" every time he or she wants to search/filter by one of these date breakouts."
   ]
  },
  {
   "cell_type": "code",
   "execution_count": 13,
   "metadata": {
    "collapsed": false
   },
   "outputs": [
    {
     "name": "stdout",
     "output_type": "stream",
     "text": [
      "10 rows affected.\n"
     ]
    },
    {
     "data": {
      "text/html": [
       "<table>\n",
       "    <tr>\n",
       "        <th>offense_day_of_year</th>\n",
       "        <th>offense_year</th>\n",
       "        <th>offense_month</th>\n",
       "        <th>offense_day</th>\n",
       "        <th>offense_day_of_week_str</th>\n",
       "        <th>offense_day_of_week</th>\n",
       "        <th>offense_is_weekend</th>\n",
       "        <th>offense_is_weekday</th>\n",
       "        <th>offense_hour_24</th>\n",
       "        <th>offense_quarter</th>\n",
       "    </tr>\n",
       "    <tr>\n",
       "        <td>2014-02-14</td>\n",
       "        <td>2014</td>\n",
       "        <td>02</td>\n",
       "        <td>14</td>\n",
       "        <td>Friday   </td>\n",
       "        <td>6</td>\n",
       "        <td>1</td>\n",
       "        <td>0</td>\n",
       "        <td>00</td>\n",
       "        <td>1</td>\n",
       "    </tr>\n",
       "    <tr>\n",
       "        <td>2016-04-03</td>\n",
       "        <td>2016</td>\n",
       "        <td>04</td>\n",
       "        <td>03</td>\n",
       "        <td>Sunday   </td>\n",
       "        <td>1</td>\n",
       "        <td>0</td>\n",
       "        <td>1</td>\n",
       "        <td>00</td>\n",
       "        <td>2</td>\n",
       "    </tr>\n",
       "    <tr>\n",
       "        <td>2016-02-01</td>\n",
       "        <td>2016</td>\n",
       "        <td>02</td>\n",
       "        <td>01</td>\n",
       "        <td>Monday   </td>\n",
       "        <td>2</td>\n",
       "        <td>0</td>\n",
       "        <td>1</td>\n",
       "        <td>00</td>\n",
       "        <td>1</td>\n",
       "    </tr>\n",
       "    <tr>\n",
       "        <td>2016-03-16</td>\n",
       "        <td>2016</td>\n",
       "        <td>03</td>\n",
       "        <td>16</td>\n",
       "        <td>Wednesday</td>\n",
       "        <td>4</td>\n",
       "        <td>0</td>\n",
       "        <td>1</td>\n",
       "        <td>00</td>\n",
       "        <td>1</td>\n",
       "    </tr>\n",
       "    <tr>\n",
       "        <td>2016-04-01</td>\n",
       "        <td>2016</td>\n",
       "        <td>04</td>\n",
       "        <td>01</td>\n",
       "        <td>Friday   </td>\n",
       "        <td>6</td>\n",
       "        <td>1</td>\n",
       "        <td>0</td>\n",
       "        <td>00</td>\n",
       "        <td>2</td>\n",
       "    </tr>\n",
       "    <tr>\n",
       "        <td>2016-03-30</td>\n",
       "        <td>2016</td>\n",
       "        <td>03</td>\n",
       "        <td>30</td>\n",
       "        <td>Wednesday</td>\n",
       "        <td>4</td>\n",
       "        <td>0</td>\n",
       "        <td>1</td>\n",
       "        <td>00</td>\n",
       "        <td>1</td>\n",
       "    </tr>\n",
       "    <tr>\n",
       "        <td>2016-03-28</td>\n",
       "        <td>2016</td>\n",
       "        <td>03</td>\n",
       "        <td>28</td>\n",
       "        <td>Monday   </td>\n",
       "        <td>2</td>\n",
       "        <td>0</td>\n",
       "        <td>1</td>\n",
       "        <td>00</td>\n",
       "        <td>1</td>\n",
       "    </tr>\n",
       "    <tr>\n",
       "        <td>2016-04-02</td>\n",
       "        <td>2016</td>\n",
       "        <td>04</td>\n",
       "        <td>02</td>\n",
       "        <td>Saturday </td>\n",
       "        <td>7</td>\n",
       "        <td>1</td>\n",
       "        <td>0</td>\n",
       "        <td>00</td>\n",
       "        <td>2</td>\n",
       "    </tr>\n",
       "    <tr>\n",
       "        <td>2016-04-03</td>\n",
       "        <td>2016</td>\n",
       "        <td>04</td>\n",
       "        <td>03</td>\n",
       "        <td>Sunday   </td>\n",
       "        <td>1</td>\n",
       "        <td>0</td>\n",
       "        <td>1</td>\n",
       "        <td>00</td>\n",
       "        <td>2</td>\n",
       "    </tr>\n",
       "    <tr>\n",
       "        <td>2016-03-28</td>\n",
       "        <td>2016</td>\n",
       "        <td>03</td>\n",
       "        <td>28</td>\n",
       "        <td>Monday   </td>\n",
       "        <td>2</td>\n",
       "        <td>0</td>\n",
       "        <td>1</td>\n",
       "        <td>00</td>\n",
       "        <td>1</td>\n",
       "    </tr>\n",
       "</table>"
      ],
      "text/plain": [
       "[('2014-02-14', '2014', '02', '14', 'Friday   ', '6', 1, 0, '00', '1'),\n",
       " ('2016-04-03', '2016', '04', '03', 'Sunday   ', '1', 0, 1, '00', '2'),\n",
       " ('2016-02-01', '2016', '02', '01', 'Monday   ', '2', 0, 1, '00', '1'),\n",
       " ('2016-03-16', '2016', '03', '16', 'Wednesday', '4', 0, 1, '00', '1'),\n",
       " ('2016-04-01', '2016', '04', '01', 'Friday   ', '6', 1, 0, '00', '2'),\n",
       " ('2016-03-30', '2016', '03', '30', 'Wednesday', '4', 0, 1, '00', '1'),\n",
       " ('2016-03-28', '2016', '03', '28', 'Monday   ', '2', 0, 1, '00', '1'),\n",
       " ('2016-04-02', '2016', '04', '02', 'Saturday ', '7', 1, 0, '00', '2'),\n",
       " ('2016-04-03', '2016', '04', '03', 'Sunday   ', '1', 0, 1, '00', '2'),\n",
       " ('2016-03-28', '2016', '03', '28', 'Monday   ', '2', 0, 1, '00', '1')]"
      ]
     },
     "execution_count": 13,
     "metadata": {},
     "output_type": "execute_result"
    }
   ],
   "source": [
    "%%sql\n",
    "SELECT TO_CHAR(offense_date, 'YYYY-MM-DD') AS offense_day_of_year, \n",
    "    TO_CHAR(offense_date, 'YYYY') AS offense_year,\n",
    "    TO_CHAR(offense_date, 'MM') AS offense_month,\n",
    "    TO_CHAR(offense_date, 'DD') AS offense_day,\n",
    "    TO_CHAR(offense_date, 'Day') AS offense_day_of_week_str,\n",
    "    TO_CHAR(offense_date, 'D') AS offense_day_of_week,\n",
    "    CASE WHEN CAST(TO_CHAR(offense_date, 'D') AS INTEGER) >= 6 \n",
    "        THEN 1 \n",
    "        ELSE 0\n",
    "    END AS offense_is_weekend,\n",
    "    CASE WHEN CAST(TO_CHAR(offense_date, 'D') AS INTEGER) < 6 \n",
    "        THEN 1 \n",
    "        ELSE 0\n",
    "    END AS offense_is_weekday,\n",
    "    TO_CHAR(offense_date, 'HH24') AS offense_hour_24,\n",
    "    TO_CHAR(offense_date, 'Q') AS offense_quarter\n",
    "FROM BRcrime\n",
    "LIMIT 10\n",
    ";"
   ]
  },
  {
   "cell_type": "code",
   "execution_count": 14,
   "metadata": {
    "collapsed": false
   },
   "outputs": [
    {
     "name": "stdout",
     "output_type": "stream",
     "text": [
      "Done.\n"
     ]
    },
    {
     "data": {
      "text/plain": [
       "[]"
      ]
     },
     "execution_count": 14,
     "metadata": {},
     "output_type": "execute_result"
    }
   ],
   "source": [
    "%%sql\n",
    "ALTER TABLE BRcrime\n",
    "ADD COLUMN offense_day_of_year char(10),\n",
    "ADD COLUMN offense_year INTEGER,\n",
    "ADD COLUMN offense_month INTEGER,\n",
    "ADD COLUMN offense_day INTEGER,\n",
    "ADD COLUMN offense_day_of_week_str char(9)\n",
    ";"
   ]
  },
  {
   "cell_type": "code",
   "execution_count": 15,
   "metadata": {
    "collapsed": false
   },
   "outputs": [
    {
     "name": "stdout",
     "output_type": "stream",
     "text": [
      "301344 rows affected.\n"
     ]
    },
    {
     "data": {
      "text/plain": [
       "[]"
      ]
     },
     "execution_count": 15,
     "metadata": {},
     "output_type": "execute_result"
    }
   ],
   "source": [
    "%%sql\n",
    "UPDATE BRcrime SET (offense_day_of_year, offense_year, offense_month, offense_day, offense_day_of_week_str) = \n",
    "(   TO_CHAR(offense_date, 'YYYY-MM-DD'), \n",
    "    CAST(TO_CHAR(offense_date, 'YYYY') AS INTEGER),\n",
    "    CAST(TO_CHAR(offense_date, 'MM') AS INTEGER),\n",
    "    CAST(TO_CHAR(offense_date, 'DD') AS INTEGER),\n",
    "    TO_CHAR(offense_date, 'Day')\n",
    " )\n",
    ";"
   ]
  },
  {
   "cell_type": "code",
   "execution_count": 16,
   "metadata": {
    "collapsed": false
   },
   "outputs": [
    {
     "name": "stdout",
     "output_type": "stream",
     "text": [
      "10 rows affected.\n"
     ]
    },
    {
     "data": {
      "text/html": [
       "<table>\n",
       "    <tr>\n",
       "        <th>offense_date</th>\n",
       "        <th>offense_day_of_year</th>\n",
       "        <th>offense_year</th>\n",
       "        <th>offense_month</th>\n",
       "        <th>offense_day</th>\n",
       "        <th>offense_day_of_week_str</th>\n",
       "    </tr>\n",
       "    <tr>\n",
       "        <td>2015-07-28 00:00:00</td>\n",
       "        <td>2015-07-28</td>\n",
       "        <td>2015</td>\n",
       "        <td>7</td>\n",
       "        <td>28</td>\n",
       "        <td>Tuesday  </td>\n",
       "    </tr>\n",
       "    <tr>\n",
       "        <td>2012-10-19 00:00:00</td>\n",
       "        <td>2012-10-19</td>\n",
       "        <td>2012</td>\n",
       "        <td>10</td>\n",
       "        <td>19</td>\n",
       "        <td>Friday   </td>\n",
       "    </tr>\n",
       "    <tr>\n",
       "        <td>2013-07-29 00:00:00</td>\n",
       "        <td>2013-07-29</td>\n",
       "        <td>2013</td>\n",
       "        <td>7</td>\n",
       "        <td>29</td>\n",
       "        <td>Monday   </td>\n",
       "    </tr>\n",
       "    <tr>\n",
       "        <td>2011-02-03 00:00:00</td>\n",
       "        <td>2011-02-03</td>\n",
       "        <td>2011</td>\n",
       "        <td>2</td>\n",
       "        <td>3</td>\n",
       "        <td>Thursday </td>\n",
       "    </tr>\n",
       "    <tr>\n",
       "        <td>2014-03-18 00:00:00</td>\n",
       "        <td>2014-03-18</td>\n",
       "        <td>2014</td>\n",
       "        <td>3</td>\n",
       "        <td>18</td>\n",
       "        <td>Tuesday  </td>\n",
       "    </tr>\n",
       "    <tr>\n",
       "        <td>2011-07-29 00:00:00</td>\n",
       "        <td>2011-07-29</td>\n",
       "        <td>2011</td>\n",
       "        <td>7</td>\n",
       "        <td>29</td>\n",
       "        <td>Friday   </td>\n",
       "    </tr>\n",
       "    <tr>\n",
       "        <td>2011-05-12 00:00:00</td>\n",
       "        <td>2011-05-12</td>\n",
       "        <td>2011</td>\n",
       "        <td>5</td>\n",
       "        <td>12</td>\n",
       "        <td>Thursday </td>\n",
       "    </tr>\n",
       "    <tr>\n",
       "        <td>2015-03-03 00:00:00</td>\n",
       "        <td>2015-03-03</td>\n",
       "        <td>2015</td>\n",
       "        <td>3</td>\n",
       "        <td>3</td>\n",
       "        <td>Tuesday  </td>\n",
       "    </tr>\n",
       "    <tr>\n",
       "        <td>2013-07-29 00:00:00</td>\n",
       "        <td>2013-07-29</td>\n",
       "        <td>2013</td>\n",
       "        <td>7</td>\n",
       "        <td>29</td>\n",
       "        <td>Monday   </td>\n",
       "    </tr>\n",
       "    <tr>\n",
       "        <td>2015-07-19 00:00:00</td>\n",
       "        <td>2015-07-19</td>\n",
       "        <td>2015</td>\n",
       "        <td>7</td>\n",
       "        <td>19</td>\n",
       "        <td>Sunday   </td>\n",
       "    </tr>\n",
       "</table>"
      ],
      "text/plain": [
       "[(datetime.datetime(2015, 7, 28, 0, 0), '2015-07-28', 2015, 7, 28, 'Tuesday  '),\n",
       " (datetime.datetime(2012, 10, 19, 0, 0), '2012-10-19', 2012, 10, 19, 'Friday   '),\n",
       " (datetime.datetime(2013, 7, 29, 0, 0), '2013-07-29', 2013, 7, 29, 'Monday   '),\n",
       " (datetime.datetime(2011, 2, 3, 0, 0), '2011-02-03', 2011, 2, 3, 'Thursday '),\n",
       " (datetime.datetime(2014, 3, 18, 0, 0), '2014-03-18', 2014, 3, 18, 'Tuesday  '),\n",
       " (datetime.datetime(2011, 7, 29, 0, 0), '2011-07-29', 2011, 7, 29, 'Friday   '),\n",
       " (datetime.datetime(2011, 5, 12, 0, 0), '2011-05-12', 2011, 5, 12, 'Thursday '),\n",
       " (datetime.datetime(2015, 3, 3, 0, 0), '2015-03-03', 2015, 3, 3, 'Tuesday  '),\n",
       " (datetime.datetime(2013, 7, 29, 0, 0), '2013-07-29', 2013, 7, 29, 'Monday   '),\n",
       " (datetime.datetime(2015, 7, 19, 0, 0), '2015-07-19', 2015, 7, 19, 'Sunday   ')]"
      ]
     },
     "execution_count": 16,
     "metadata": {},
     "output_type": "execute_result"
    }
   ],
   "source": [
    "%%sql\n",
    "SELECT offense_date,\n",
    "       offense_day_of_year, \n",
    "       offense_year, \n",
    "       offense_month, \n",
    "       offense_day,\n",
    "       offense_day_of_week_str\n",
    "FROM BRcrime\n",
    "LIMIT 10\n",
    ";"
   ]
  },
  {
   "cell_type": "markdown",
   "metadata": {},
   "source": [
    "In our analysis, we decided to define crimes as the count of rows rather than distinct file numbers or offenses.  This is because there are typically multiple offenses and multiple occurences of these offenses for each police report (file number), so we feel as if counting the total number of rows for each file number would capture all instances of crime associated with each report.  That being said, the following query counts the number of crimes for each year in the dataset.  It indicates that crime has steadily gone down over the years from 62,552 crimes occurring to 2011 to 37,142\\* crimes occuring in 2016. This is a 41% reduction in crimes in five years. However, since it is only November, the number of crimes can still increase. \n",
    "\n",
    "\\*Please note that this figure may increase in the output below as a result of daily updates of the dataset."
   ]
  },
  {
   "cell_type": "code",
   "execution_count": 17,
   "metadata": {
    "collapsed": false
   },
   "outputs": [
    {
     "name": "stdout",
     "output_type": "stream",
     "text": [
      "6 rows affected.\n"
     ]
    },
    {
     "data": {
      "text/html": [
       "<table>\n",
       "    <tr>\n",
       "        <th>offense_year</th>\n",
       "        <th>number_of_crimes</th>\n",
       "    </tr>\n",
       "    <tr>\n",
       "        <td>2011</td>\n",
       "        <td>62552</td>\n",
       "    </tr>\n",
       "    <tr>\n",
       "        <td>2012</td>\n",
       "        <td>55880</td>\n",
       "    </tr>\n",
       "    <tr>\n",
       "        <td>2013</td>\n",
       "        <td>50605</td>\n",
       "    </tr>\n",
       "    <tr>\n",
       "        <td>2014</td>\n",
       "        <td>47130</td>\n",
       "    </tr>\n",
       "    <tr>\n",
       "        <td>2015</td>\n",
       "        <td>47862</td>\n",
       "    </tr>\n",
       "    <tr>\n",
       "        <td>2016</td>\n",
       "        <td>37315</td>\n",
       "    </tr>\n",
       "</table>"
      ],
      "text/plain": [
       "[(2011, 62552),\n",
       " (2012, 55880),\n",
       " (2013, 50605),\n",
       " (2014, 47130),\n",
       " (2015, 47862),\n",
       " (2016, 37315)]"
      ]
     },
     "execution_count": 17,
     "metadata": {},
     "output_type": "execute_result"
    }
   ],
   "source": [
    "%%sql\n",
    "SELECT offense_year as Offense_Year, count(*) as Number_of_Crimes\n",
    "FROM BRcrime\n",
    "GROUP BY offense_year\n",
    "ORDER BY offense_year ASC\n",
    ";"
   ]
  },
  {
   "cell_type": "code",
   "execution_count": 18,
   "metadata": {
    "collapsed": false
   },
   "outputs": [
    {
     "name": "stderr",
     "output_type": "stream",
     "text": [
      "/opt/conda/lib/python3.5/site-packages/matplotlib/font_manager.py:273: UserWarning: Matplotlib is building the font cache using fc-list. This may take a moment.\n",
      "  warnings.warn('Matplotlib is building the font cache using fc-list. This may take a moment.')\n",
      "/opt/conda/lib/python3.5/site-packages/matplotlib/font_manager.py:273: UserWarning: Matplotlib is building the font cache using fc-list. This may take a moment.\n",
      "  warnings.warn('Matplotlib is building the font cache using fc-list. This may take a moment.')\n"
     ]
    },
    {
     "name": "stdout",
     "output_type": "stream",
     "text": [
      "Count of crimes occurring in Baton Rouge Over The Years\r\n"
     ]
    },
    {
     "data": {
      "image/png": "[encoded data removed]",
      "text/plain": [
       "<matplotlib.figure.Figure at 0x7f65e285fdd8>"
      ]
     },
     "metadata": {},
     "output_type": "display_data"
    }
   ],
   "source": [
    "%matplotlib inline\n",
    "result = _\n",
    "result.bar()\n",
    "!echo 'Count of crimes occurring in Baton Rouge Over The Years'"
   ]
  },
  {
   "cell_type": "markdown",
   "metadata": {},
   "source": [
    "In order to limit the dataset and obtain reliable results from our analysis, we decided to only focused on crimes that occurred in 2016 that had non-null file numbers. The code below limits the data to 2016 only, and adds a new field called \"file_number_evnt.\"  From our previous analysis, we know that there are cases of multiple file numbers, so this code create a file_number_evnt field which numbers instances (row number) for each file number by offense date, offense time and offense.  \"Partition by\" is similar to a group by statement and will just separate data into chunks and number rows according to each file number."
   ]
  },
  {
   "cell_type": "code",
   "execution_count": 19,
   "metadata": {
    "collapsed": false
   },
   "outputs": [
    {
     "name": "stdout",
     "output_type": "stream",
     "text": [
      "Done.\n",
      "36715 rows affected.\n"
     ]
    },
    {
     "data": {
      "text/plain": [
       "[]"
      ]
     },
     "execution_count": 19,
     "metadata": {},
     "output_type": "execute_result"
    }
   ],
   "source": [
    "%%sql\n",
    "DROP TABLE IF EXISTS BRcrime_2016;\n",
    "CREATE TABLE BRcrime_2016 AS \n",
    "SELECT \n",
    "    *,\n",
    "    row_number() OVER (PARTITION BY file_number order by offense_date, offense_time, offense) as file_number_evnt\n",
    "  FROM BRcrime \n",
    "  WHERE offense_year = '2016'\n",
    "    AND file_number is not null\n",
    ";\n"
   ]
  },
  {
   "cell_type": "markdown",
   "metadata": {},
   "source": [
    "The following code imputes values for null cells.  It is important to avoid null values and handle them accordingly when creating a usable data warehouse.  Please note that integer nulls are imputed as -999 and categorical nulls are imputed as \"Null.\"  From the output, it is shown that Complete District, Street Number, Street Name, and Zip have null values for the 2016 dataset."
   ]
  },
  {
   "cell_type": "code",
   "execution_count": 20,
   "metadata": {
    "collapsed": false
   },
   "outputs": [
    {
     "name": "stdout",
     "output_type": "stream",
     "text": [
      "2157 rows affected.\n",
      "0 rows affected.\n",
      "9 rows affected.\n",
      "30603 rows affected.\n",
      "0 rows affected.\n",
      "1069 rows affected.\n",
      "0 rows affected.\n",
      "0 rows affected.\n",
      "17019 rows affected.\n",
      "0 rows affected.\n"
     ]
    },
    {
     "data": {
      "text/plain": [
       "[]"
      ]
     },
     "execution_count": 20,
     "metadata": {},
     "output_type": "execute_result"
    }
   ],
   "source": [
    "%%sql\n",
    "UPDATE BRcrime_2016 SET complete_district = 'Null' where complete_district is null;\n",
    "UPDATE BRcrime_2016 SET address = 'Null' where address is null;\n",
    "UPDATE BRcrime_2016 SET st_number = -999 where st_number is null;\n",
    "UPDATE BRcrime_2016 SET st_dir = 'Null' where st_dir is null;\n",
    "UPDATE BRcrime_2016 SET st_name = 'Null' where st_name is null;\n",
    "UPDATE BRcrime_2016 SET st_type = 'Null' where st_type is null;\n",
    "UPDATE BRcrime_2016 SET city = 'Null' where city is null;\n",
    "UPDATE BRcrime_2016 SET state = 'Null' where state is null;\n",
    "UPDATE BRcrime_2016 SET zip = 'Null' where zip is null;\n",
    "UPDATE BRcrime_2016 SET geolocation = 'Null' where geolocation is null;"
   ]
  },
  {
   "cell_type": "code",
   "execution_count": 21,
   "metadata": {
    "collapsed": false
   },
   "outputs": [
    {
     "name": "stdout",
     "output_type": "stream",
     "text": [
      "5 rows affected.\n"
     ]
    },
    {
     "data": {
      "text/html": [
       "<table>\n",
       "    <tr>\n",
       "        <th>file_number</th>\n",
       "        <th>offense_date</th>\n",
       "        <th>offense_time</th>\n",
       "        <th>crime</th>\n",
       "        <th>committed</th>\n",
       "        <th>offense</th>\n",
       "        <th>offense_desc</th>\n",
       "        <th>address</th>\n",
       "        <th>st_number</th>\n",
       "        <th>st_dir</th>\n",
       "        <th>st_name</th>\n",
       "        <th>st_type</th>\n",
       "        <th>city</th>\n",
       "        <th>state</th>\n",
       "        <th>zip</th>\n",
       "        <th>district</th>\n",
       "        <th>zone</th>\n",
       "        <th>subzone</th>\n",
       "        <th>complete_district</th>\n",
       "        <th>geolocation</th>\n",
       "        <th>offense_day_of_year</th>\n",
       "        <th>offense_year</th>\n",
       "        <th>offense_month</th>\n",
       "        <th>offense_day</th>\n",
       "        <th>offense_day_of_week_str</th>\n",
       "        <th>file_number_evnt</th>\n",
       "    </tr>\n",
       "    <tr>\n",
       "        <td>1300098655</td>\n",
       "        <td>2016-02-16 00:00:00</td>\n",
       "        <td>2354</td>\n",
       "        <td>FIREARM</td>\n",
       "        <td>COMMITTED</td>\n",
       "        <td>14:69.1</td>\n",
       "        <td>ILL POSS OF STOLEN FIREARMS</td>\n",
       "        <td>600 S 17TH ST</td>\n",
       "        <td>600</td>\n",
       "        <td>S   </td>\n",
       "        <td>17TH</td>\n",
       "        <td>ST  </td>\n",
       "        <td>BATON ROUGE</td>\n",
       "        <td>LA  </td>\n",
       "        <td>70808    </td>\n",
       "        <td>2</td>\n",
       "        <td>A    </td>\n",
       "        <td>2    </td>\n",
       "        <td>2A2  </td>\n",
       "        <td>600 S 17TH ST<br>BATON ROUGE, LA 70808<br>(30.441815, -91.171103)</td>\n",
       "        <td>2016-02-16</td>\n",
       "        <td>2016</td>\n",
       "        <td>2</td>\n",
       "        <td>16</td>\n",
       "        <td>Tuesday  </td>\n",
       "        <td>1</td>\n",
       "    </tr>\n",
       "    <tr>\n",
       "        <td>1400062150</td>\n",
       "        <td>2016-02-07 00:00:00</td>\n",
       "        <td>2230</td>\n",
       "        <td>THEFT</td>\n",
       "        <td>COMMITTED</td>\n",
       "        <td>13:69</td>\n",
       "        <td>ILL POSS STLN THINGS/CC</td>\n",
       "        <td>1900 N FOSTER DR</td>\n",
       "        <td>1900</td>\n",
       "        <td>N   </td>\n",
       "        <td>FOSTER</td>\n",
       "        <td>DR  </td>\n",
       "        <td>BATON ROUGE</td>\n",
       "        <td>LA  </td>\n",
       "        <td>70805    </td>\n",
       "        <td>1</td>\n",
       "        <td>C    </td>\n",
       "        <td>2    </td>\n",
       "        <td>1C2  </td>\n",
       "        <td>1900 N FOSTER DR<br>BATON ROUGE, LA 70805<br>(30.466118, -91.13971)</td>\n",
       "        <td>2016-02-07</td>\n",
       "        <td>2016</td>\n",
       "        <td>2</td>\n",
       "        <td>7</td>\n",
       "        <td>Sunday   </td>\n",
       "        <td>1</td>\n",
       "    </tr>\n",
       "    <tr>\n",
       "        <td>1500026491</td>\n",
       "        <td>2016-03-27 00:00:00</td>\n",
       "        <td>1500</td>\n",
       "        <td>OTHER</td>\n",
       "        <td>ATTEMPTED</td>\n",
       "        <td>14:27</td>\n",
       "        <td>ATTEMPTED (Code Modifier)</td>\n",
       "        <td>1526 N FOSTER DR</td>\n",
       "        <td>1526</td>\n",
       "        <td>N   </td>\n",
       "        <td>FOSTER</td>\n",
       "        <td>DR  </td>\n",
       "        <td>BATON ROUGE</td>\n",
       "        <td>LA  </td>\n",
       "        <td>70805    </td>\n",
       "        <td>1</td>\n",
       "        <td>C    </td>\n",
       "        <td>2    </td>\n",
       "        <td>1C2  </td>\n",
       "        <td>1526 N FOSTER DR<br>BATON ROUGE, LA 70805<br>(30.462631, -91.139536)</td>\n",
       "        <td>2016-03-27</td>\n",
       "        <td>2016</td>\n",
       "        <td>3</td>\n",
       "        <td>27</td>\n",
       "        <td>Sunday   </td>\n",
       "        <td>1</td>\n",
       "    </tr>\n",
       "    <tr>\n",
       "        <td>1500030367</td>\n",
       "        <td>2016-04-20 00:00:00</td>\n",
       "        <td>1400</td>\n",
       "        <td>THEFT</td>\n",
       "        <td>COMMITTED</td>\n",
       "        <td>14:72.2</td>\n",
       "        <td>MONETARY INSTRUMENT ABUSE</td>\n",
       "        <td>11544 N HARRELL&#x27;S FERRY RD</td>\n",
       "        <td>11544</td>\n",
       "        <td>N   </td>\n",
       "        <td>HARRELL&#x27;S FERRY</td>\n",
       "        <td>RD  </td>\n",
       "        <td>BATON ROUGE</td>\n",
       "        <td>LA  </td>\n",
       "        <td>70816    </td>\n",
       "        <td>3</td>\n",
       "        <td>E    </td>\n",
       "        <td>5    </td>\n",
       "        <td>3E5  </td>\n",
       "        <td>11544 N HARRELL&#x27;S FERRY RD<br>BATON ROUGE, LA 70816<br>(30.432389, -91.053344)</td>\n",
       "        <td>2016-04-20</td>\n",
       "        <td>2016</td>\n",
       "        <td>4</td>\n",
       "        <td>20</td>\n",
       "        <td>Wednesday</td>\n",
       "        <td>1</td>\n",
       "    </tr>\n",
       "    <tr>\n",
       "        <td>1500072696</td>\n",
       "        <td>2016-04-14 00:00:00</td>\n",
       "        <td>1059</td>\n",
       "        <td>BATTERY</td>\n",
       "        <td>COMMITTED</td>\n",
       "        <td>14:35.3</td>\n",
       "        <td>DOMESTIC ABUSE BATT</td>\n",
       "        <td>1882 N PAMELA DR</td>\n",
       "        <td>1882</td>\n",
       "        <td>N   </td>\n",
       "        <td>PAMELA</td>\n",
       "        <td>DR  </td>\n",
       "        <td>BATON ROUGE</td>\n",
       "        <td>LA  </td>\n",
       "        <td>70815    </td>\n",
       "        <td>3</td>\n",
       "        <td>D    </td>\n",
       "        <td>2    </td>\n",
       "        <td>3D2  </td>\n",
       "        <td>1882 N PAMELA DR<br>BATON ROUGE, LA 70815<br>(30.465466, -91.050746)</td>\n",
       "        <td>2016-04-14</td>\n",
       "        <td>2016</td>\n",
       "        <td>4</td>\n",
       "        <td>14</td>\n",
       "        <td>Thursday </td>\n",
       "        <td>1</td>\n",
       "    </tr>\n",
       "</table>"
      ],
      "text/plain": [
       "[('1300098655', datetime.datetime(2016, 2, 16, 0, 0), '2354', 'FIREARM', 'COMMITTED', '14:69.1', 'ILL POSS OF STOLEN FIREARMS', '600 S 17TH ST', 600, 'S   ', '17TH', 'ST  ', 'BATON ROUGE', 'LA  ', '70808    ', '2', 'A    ', '2    ', '2A2  ', '600 S 17TH ST\\nBATON ROUGE, LA 70808\\n(30.441815, -91.171103)', '2016-02-16', 2016, 2, 16, 'Tuesday  ', 1),\n",
       " ('1400062150', datetime.datetime(2016, 2, 7, 0, 0), '2230', 'THEFT', 'COMMITTED', '13:69', 'ILL POSS STLN THINGS/CC', '1900 N FOSTER DR', 1900, 'N   ', 'FOSTER', 'DR  ', 'BATON ROUGE', 'LA  ', '70805    ', '1', 'C    ', '2    ', '1C2  ', '1900 N FOSTER DR\\nBATON ROUGE, LA 70805\\n(30.466118, -91.13971)', '2016-02-07', 2016, 2, 7, 'Sunday   ', 1),\n",
       " ('1500026491', datetime.datetime(2016, 3, 27, 0, 0), '1500', 'OTHER', 'ATTEMPTED', '14:27', 'ATTEMPTED (Code Modifier)', '1526 N FOSTER DR', 1526, 'N   ', 'FOSTER', 'DR  ', 'BATON ROUGE', 'LA  ', '70805    ', '1', 'C    ', '2    ', '1C2  ', '1526 N FOSTER DR\\nBATON ROUGE, LA 70805\\n(30.462631, -91.139536)', '2016-03-27', 2016, 3, 27, 'Sunday   ', 1),\n",
       " ('1500030367', datetime.datetime(2016, 4, 20, 0, 0), '1400', 'THEFT', 'COMMITTED', '14:72.2', 'MONETARY INSTRUMENT ABUSE', \"11544 N HARRELL'S FERRY RD\", 11544, 'N   ', \"HARRELL'S FERRY\", 'RD  ', 'BATON ROUGE', 'LA  ', '70816    ', '3', 'E    ', '5    ', '3E5  ', \"11544 N HARRELL'S FERRY RD\\nBATON ROUGE, LA 70816\\n(30.432389, -91.053344)\", '2016-04-20', 2016, 4, 20, 'Wednesday', 1),\n",
       " ('1500072696', datetime.datetime(2016, 4, 14, 0, 0), '1059', 'BATTERY', 'COMMITTED', '14:35.3', 'DOMESTIC ABUSE BATT', '1882 N PAMELA DR', 1882, 'N   ', 'PAMELA', 'DR  ', 'BATON ROUGE', 'LA  ', '70815    ', '3', 'D    ', '2    ', '3D2  ', '1882 N PAMELA DR\\nBATON ROUGE, LA 70815\\n(30.465466, -91.050746)', '2016-04-14', 2016, 4, 14, 'Thursday ', 1)]"
      ]
     },
     "execution_count": 21,
     "metadata": {},
     "output_type": "execute_result"
    }
   ],
   "source": [
    "%%sql \n",
    "SELECT *\n",
    "FROM BRcrime_2016 \n",
    "LIMIT 5\n",
    ";"
   ]
  },
  {
   "cell_type": "markdown",
   "metadata": {},
   "source": [
    "In order to re-investigate the nature of the dimensions in our dataset, the following code is used to check dataset to find duplicate file numbers. It creates a table to count the number of rows for each file number, and the second table counts the instances when there is more than one row for a particular file number.  The output from this step shows that there are about 7,000\\* duplicated file numbers in our set for 2016, and that there are 24,177\\* unique values for this field. <br> <br> \\*Note that these values may increase with the daily dataset updates"
   ]
  },
  {
   "cell_type": "code",
   "execution_count": 22,
   "metadata": {
    "collapsed": false
   },
   "outputs": [
    {
     "name": "stdout",
     "output_type": "stream",
     "text": [
      "Done.\n",
      "24387 rows affected.\n",
      "1 rows affected.\n"
     ]
    },
    {
     "data": {
      "text/html": [
       "<table>\n",
       "    <tr>\n",
       "        <th>count</th>\n",
       "    </tr>\n",
       "    <tr>\n",
       "        <td>7175</td>\n",
       "    </tr>\n",
       "</table>"
      ],
      "text/plain": [
       "[(7175,)]"
      ]
     },
     "execution_count": 22,
     "metadata": {},
     "output_type": "execute_result"
    }
   ],
   "source": [
    "%%sql \n",
    "DROP TABLE IF EXISTS count_dups;\n",
    "CREATE TEMP TABLE count_dups AS SELECT\n",
    "    file_number, \n",
    "    COUNT(*) AS counter\n",
    "FROM BRcrime_2016 \n",
    "GROUP BY 1\n",
    ";\n",
    "\n",
    "SELECT \n",
    "    COUNT(*) \n",
    "FROM count_dups\n",
    "WHERE counter > 1;"
   ]
  },
  {
   "cell_type": "code",
   "execution_count": 23,
   "metadata": {
    "collapsed": false
   },
   "outputs": [
    {
     "name": "stdout",
     "output_type": "stream",
     "text": [
      "Done.\n",
      "24387 rows affected.\n",
      "10 rows affected.\n"
     ]
    },
    {
     "data": {
      "text/html": [
       "<table>\n",
       "    <tr>\n",
       "        <th>file_number</th>\n",
       "        <th>counter</th>\n",
       "    </tr>\n",
       "    <tr>\n",
       "        <td>1600067040</td>\n",
       "        <td>2</td>\n",
       "    </tr>\n",
       "    <tr>\n",
       "        <td>1600042281</td>\n",
       "        <td>5</td>\n",
       "    </tr>\n",
       "    <tr>\n",
       "        <td>1600026580</td>\n",
       "        <td>3</td>\n",
       "    </tr>\n",
       "    <tr>\n",
       "        <td>1600103911</td>\n",
       "        <td>2</td>\n",
       "    </tr>\n",
       "    <tr>\n",
       "        <td>1600034713</td>\n",
       "        <td>2</td>\n",
       "    </tr>\n",
       "    <tr>\n",
       "        <td>1600097111</td>\n",
       "        <td>3</td>\n",
       "    </tr>\n",
       "    <tr>\n",
       "        <td>1600005840</td>\n",
       "        <td>3</td>\n",
       "    </tr>\n",
       "    <tr>\n",
       "        <td>1600048091</td>\n",
       "        <td>3</td>\n",
       "    </tr>\n",
       "    <tr>\n",
       "        <td>1600040290</td>\n",
       "        <td>3</td>\n",
       "    </tr>\n",
       "    <tr>\n",
       "        <td>1600106417</td>\n",
       "        <td>3</td>\n",
       "    </tr>\n",
       "</table>"
      ],
      "text/plain": [
       "[('1600067040', 2),\n",
       " ('1600042281', 5),\n",
       " ('1600026580', 3),\n",
       " ('1600103911', 2),\n",
       " ('1600034713', 2),\n",
       " ('1600097111', 3),\n",
       " ('1600005840', 3),\n",
       " ('1600048091', 3),\n",
       " ('1600040290', 3),\n",
       " ('1600106417', 3)]"
      ]
     },
     "execution_count": 23,
     "metadata": {},
     "output_type": "execute_result"
    }
   ],
   "source": [
    "%%sql \n",
    "DROP TABLE IF EXISTS count_dups;\n",
    "CREATE TEMP TABLE count_dups AS SELECT\n",
    "    file_number, \n",
    "    COUNT(*) AS counter\n",
    "FROM BRcrime_2016 \n",
    "GROUP BY 1\n",
    ";\n",
    "\n",
    "SELECT \n",
    "    *\n",
    "FROM count_dups\n",
    "WHERE counter > 1\n",
    "LIMIT 10;"
   ]
  },
  {
   "cell_type": "markdown",
   "metadata": {},
   "source": [
    "As seen in the output below, the file_number_evnt field created accounts for these duplicated rows."
   ]
  },
  {
   "cell_type": "code",
   "execution_count": 24,
   "metadata": {
    "collapsed": false
   },
   "outputs": [
    {
     "name": "stdout",
     "output_type": "stream",
     "text": [
      "3 rows affected.\n"
     ]
    },
    {
     "data": {
      "text/html": [
       "<table>\n",
       "    <tr>\n",
       "        <th>file_number</th>\n",
       "        <th>offense_date</th>\n",
       "        <th>offense_time</th>\n",
       "        <th>crime</th>\n",
       "        <th>committed</th>\n",
       "        <th>offense</th>\n",
       "        <th>offense_desc</th>\n",
       "        <th>address</th>\n",
       "        <th>st_number</th>\n",
       "        <th>st_dir</th>\n",
       "        <th>st_name</th>\n",
       "        <th>st_type</th>\n",
       "        <th>city</th>\n",
       "        <th>state</th>\n",
       "        <th>zip</th>\n",
       "        <th>district</th>\n",
       "        <th>zone</th>\n",
       "        <th>subzone</th>\n",
       "        <th>complete_district</th>\n",
       "        <th>geolocation</th>\n",
       "        <th>offense_day_of_year</th>\n",
       "        <th>offense_year</th>\n",
       "        <th>offense_month</th>\n",
       "        <th>offense_day</th>\n",
       "        <th>offense_day_of_week_str</th>\n",
       "        <th>file_number_evnt</th>\n",
       "    </tr>\n",
       "    <tr>\n",
       "        <td>1600026580</td>\n",
       "        <td>2016-03-16 00:00:00</td>\n",
       "        <td>1735</td>\n",
       "        <td>FIREARM</td>\n",
       "        <td>COMMITTED</td>\n",
       "        <td>14:94</td>\n",
       "        <td>ILL USE OF A WEAPON</td>\n",
       "        <td>1900  68TH AV</td>\n",
       "        <td>1900</td>\n",
       "        <td>Null</td>\n",
       "        <td>68TH</td>\n",
       "        <td>AV  </td>\n",
       "        <td>BATON ROUGE</td>\n",
       "        <td>LA  </td>\n",
       "        <td>Null     </td>\n",
       "        <td>4</td>\n",
       "        <td>C    </td>\n",
       "        <td>1    </td>\n",
       "        <td>4C1  </td>\n",
       "        <td>1900 68TH AV<br>BATON ROUGE, LA<br>(30.511505, -91.172859)</td>\n",
       "        <td>2016-03-16</td>\n",
       "        <td>2016</td>\n",
       "        <td>3</td>\n",
       "        <td>16</td>\n",
       "        <td>Wednesday</td>\n",
       "        <td>1</td>\n",
       "    </tr>\n",
       "    <tr>\n",
       "        <td>1600026580</td>\n",
       "        <td>2016-03-16 00:00:00</td>\n",
       "        <td>1800</td>\n",
       "        <td>OTHER</td>\n",
       "        <td>COMMITTED</td>\n",
       "        <td>13:108</td>\n",
       "        <td>RESISTING AN OFFICER/CC</td>\n",
       "        <td>1900  68TH AV</td>\n",
       "        <td>1900</td>\n",
       "        <td>Null</td>\n",
       "        <td>68TH</td>\n",
       "        <td>AV  </td>\n",
       "        <td>BATON ROUGE</td>\n",
       "        <td>LA  </td>\n",
       "        <td>Null     </td>\n",
       "        <td>4</td>\n",
       "        <td>C    </td>\n",
       "        <td>1    </td>\n",
       "        <td>4C1  </td>\n",
       "        <td>1900 68TH AV<br>BATON ROUGE, LA<br>(30.511505, -91.172859)</td>\n",
       "        <td>2016-03-16</td>\n",
       "        <td>2016</td>\n",
       "        <td>3</td>\n",
       "        <td>16</td>\n",
       "        <td>Wednesday</td>\n",
       "        <td>2</td>\n",
       "    </tr>\n",
       "    <tr>\n",
       "        <td>1600026580</td>\n",
       "        <td>2016-03-16 00:00:00</td>\n",
       "        <td>1800</td>\n",
       "        <td>OTHER</td>\n",
       "        <td>COMMITTED</td>\n",
       "        <td>C.CR.P. ART 575</td>\n",
       "        <td>FUGITIVE</td>\n",
       "        <td>1900  68TH AV</td>\n",
       "        <td>1900</td>\n",
       "        <td>Null</td>\n",
       "        <td>68TH</td>\n",
       "        <td>AV  </td>\n",
       "        <td>BATON ROUGE</td>\n",
       "        <td>LA  </td>\n",
       "        <td>70807    </td>\n",
       "        <td>4</td>\n",
       "        <td>C    </td>\n",
       "        <td>1    </td>\n",
       "        <td>4C1  </td>\n",
       "        <td>1900 68TH AV<br>BATON ROUGE, LA 70807<br>(30.511505, -91.172859)</td>\n",
       "        <td>2016-03-16</td>\n",
       "        <td>2016</td>\n",
       "        <td>3</td>\n",
       "        <td>16</td>\n",
       "        <td>Wednesday</td>\n",
       "        <td>3</td>\n",
       "    </tr>\n",
       "</table>"
      ],
      "text/plain": [
       "[('1600026580', datetime.datetime(2016, 3, 16, 0, 0), '1735', 'FIREARM', 'COMMITTED', '14:94', 'ILL USE OF A WEAPON', '1900  68TH AV', 1900, 'Null', '68TH', 'AV  ', 'BATON ROUGE', 'LA  ', 'Null     ', '4', 'C    ', '1    ', '4C1  ', '1900 68TH AV\\nBATON ROUGE, LA\\n(30.511505, -91.172859)', '2016-03-16', 2016, 3, 16, 'Wednesday', 1),\n",
       " ('1600026580', datetime.datetime(2016, 3, 16, 0, 0), '1800', 'OTHER', 'COMMITTED', '13:108', 'RESISTING AN OFFICER/CC', '1900  68TH AV', 1900, 'Null', '68TH', 'AV  ', 'BATON ROUGE', 'LA  ', 'Null     ', '4', 'C    ', '1    ', '4C1  ', '1900 68TH AV\\nBATON ROUGE, LA\\n(30.511505, -91.172859)', '2016-03-16', 2016, 3, 16, 'Wednesday', 2),\n",
       " ('1600026580', datetime.datetime(2016, 3, 16, 0, 0), '1800', 'OTHER', 'COMMITTED', 'C.CR.P. ART 575', 'FUGITIVE', '1900  68TH AV', 1900, 'Null', '68TH', 'AV  ', 'BATON ROUGE', 'LA  ', '70807    ', '4', 'C    ', '1    ', '4C1  ', '1900 68TH AV\\nBATON ROUGE, LA 70807\\n(30.511505, -91.172859)', '2016-03-16', 2016, 3, 16, 'Wednesday', 3)]"
      ]
     },
     "execution_count": 24,
     "metadata": {},
     "output_type": "execute_result"
    }
   ],
   "source": [
    "%%sql\n",
    "SELECT *\n",
    "FROM BRcrime_2016\n",
    "WHERE file_number = '1600026580'\n",
    "order by file_number_evnt\n",
    ";"
   ]
  },
  {
   "cell_type": "markdown",
   "metadata": {},
   "source": [
    "## Problem 3 - define a star schema, and load your data into it (30 points)\n",
    "\n",
    "Define a star schema consisting of at least one fact table and at least two dimensions.  Transform your source data into the new fact table and dimensions.  Discuss your key modeling decisions.\n",
    "\n",
    "Document your star schema with a diagram.  There several tools available for this, such as Google Docs and Microsoft Visio."
   ]
  },
  {
   "cell_type": "markdown",
   "metadata": {},
   "source": [
    "Please note that to view the Star Schema image **requires** the use of an absolute path, so please adjust the PATH to your location:"
   ]
  },
  {
   "cell_type": "code",
   "execution_count": 22,
   "metadata": {
    "collapsed": false
   },
   "outputs": [
    {
     "name": "stdout",
     "output_type": "stream",
     "text": [
      "/home/jovyan/work\r\n"
     ]
    }
   ],
   "source": [
    "!pwd"
   ]
  },
  {
   "cell_type": "code",
   "execution_count": 23,
   "metadata": {
    "collapsed": true
   },
   "outputs": [],
   "source": [
    "from IPython.display import Image\n",
    "PATH = \"/Users/euhwang/Dropbox/ISTM_6212/Project_2/\""
   ]
  },
  {
   "cell_type": "markdown",
   "metadata": {},
   "source": [
    "The design of the star schema created is shown below.  Since there was no primary key in the dataset and no obvious field to sum on, we had to make some adjustments.  It was determined that our data varied by File Number, File Number Event, Offense, Offense Date, Location and Zone.  Therefore, we created dimension tables for each of those and created keys associated with each.  We had to separate these fields since the combination of any of these tables would not be 1:1.  We decided to also separate out the crime dimension table which contains crime and another calculated field called crime type.  This field distinguishes whether the crime was a personal crime, property crime, black market crime, or other minor crime.  This field, plus the Committed/Attempted indicator are converted into binary fields and used as facts in the fact table. We separated out the other dimensions (crime, location, district, date time, and offense) because the affinity was natural. For the offense dimension, we found all the distinct offense and loaded into the offense dimension so that it can be easily joined to the fact table. For the future, we could add a last update timestamp and last update user in each of these dimension and fact tables to allow us to track if a new type of offense was added."
   ]
  },
  {
   "cell_type": "code",
   "execution_count": 2,
   "metadata": {
    "collapsed": false,
    "scrolled": true
   },
   "outputs": [
    {
     "data": {
      "image/jpeg": "[encoded data removed]",
      "text/plain": [
       "<IPython.core.display.Image object>"
      ]
     },
     "execution_count": 2,
     "metadata": {
      "image/jpeg": {
       "height": 1000,
       "width": 1000
      }
     },
     "output_type": "execute_result"
    }
   ],
   "source": [
    "Image(filename = PATH + \"BRcrimeStarSchema.jpg\", width=1000, height=1000)"
   ]
  },
  {
   "cell_type": "markdown",
   "metadata": {},
   "source": [
    "#### The following statements create the Crime Dimension table. \n",
    "\n",
    "First create a shell table with character and integer types.  Create a CRIME_DIM_ID, which uses SERIAL to create the numbering for the primary key."
   ]
  },
  {
   "cell_type": "code",
   "execution_count": 25,
   "metadata": {
    "collapsed": false
   },
   "outputs": [
    {
     "name": "stdout",
     "output_type": "stream",
     "text": [
      "Done.\n",
      "Done.\n"
     ]
    },
    {
     "data": {
      "text/plain": [
       "[]"
      ]
     },
     "execution_count": 25,
     "metadata": {},
     "output_type": "execute_result"
    }
   ],
   "source": [
    "%%sql\n",
    "DROP TABLE IF EXISTS crime_dim;\n",
    "CREATE TABLE crime_dim (\n",
    "  crime_dim_id SERIAL PRIMARY KEY,\n",
    "  crime varchar(27) DEFAULT NULL,\n",
    "  crime_type VARCHAR(12) DEFAULT NULL  \n",
    ");"
   ]
  },
  {
   "cell_type": "markdown",
   "metadata": {},
   "source": [
    "Next, insert distinct crime information from the original dataset."
   ]
  },
  {
   "cell_type": "code",
   "execution_count": 26,
   "metadata": {
    "collapsed": false
   },
   "outputs": [
    {
     "name": "stdout",
     "output_type": "stream",
     "text": [
      "15 rows affected.\n"
     ]
    },
    {
     "data": {
      "text/plain": [
       "[]"
      ]
     },
     "execution_count": 26,
     "metadata": {},
     "output_type": "execute_result"
    }
   ],
   "source": [
    "%%sql\n",
    "INSERT INTO crime_dim (crime)\n",
    "SELECT distinct crime from BRcrime_2016\n",
    ";"
   ]
  },
  {
   "cell_type": "markdown",
   "metadata": {},
   "source": [
    "Next, define a new field to distinguish what general category each crime falls under."
   ]
  },
  {
   "cell_type": "code",
   "execution_count": 27,
   "metadata": {
    "collapsed": false
   },
   "outputs": [
    {
     "name": "stdout",
     "output_type": "stream",
     "text": [
      "15 rows affected.\n"
     ]
    },
    {
     "data": {
      "text/plain": [
       "[]"
      ]
     },
     "execution_count": 27,
     "metadata": {},
     "output_type": "execute_result"
    }
   ],
   "source": [
    "%%sql\n",
    "UPDATE crime_dim SET \n",
    "crime_type =\n",
    "    CASE \n",
    "     WHEN crime_dim_id IN (2,8,9) then 'PERSONAL'\n",
    "     WHEN crime_dim_id IN (1,3,4,5,6,7,14) then 'PROPERTY'\n",
    "     WHEN crime_dim_id IN (11,12) then 'OTHER MINOR'\n",
    "     WHEN crime_dim_id IN (10,13,15) then 'BLACK MARKET' \n",
    "         else NULL end\n",
    ";"
   ]
  },
  {
   "cell_type": "markdown",
   "metadata": {},
   "source": [
    "See the final crime dimension table below."
   ]
  },
  {
   "cell_type": "code",
   "execution_count": 28,
   "metadata": {
    "collapsed": false
   },
   "outputs": [
    {
     "name": "stdout",
     "output_type": "stream",
     "text": [
      "15 rows affected.\n"
     ]
    },
    {
     "data": {
      "text/html": [
       "<table>\n",
       "    <tr>\n",
       "        <th>crime_dim_id</th>\n",
       "        <th>crime</th>\n",
       "        <th>crime_type</th>\n",
       "    </tr>\n",
       "    <tr>\n",
       "        <td>1</td>\n",
       "        <td>THEFT</td>\n",
       "        <td>PROPERTY</td>\n",
       "    </tr>\n",
       "    <tr>\n",
       "        <td>2</td>\n",
       "        <td>VEHICLE BURGLARY</td>\n",
       "        <td>PERSONAL</td>\n",
       "    </tr>\n",
       "    <tr>\n",
       "        <td>3</td>\n",
       "        <td>VICE</td>\n",
       "        <td>PROPERTY</td>\n",
       "    </tr>\n",
       "    <tr>\n",
       "        <td>4</td>\n",
       "        <td>OTHER</td>\n",
       "        <td>PROPERTY</td>\n",
       "    </tr>\n",
       "    <tr>\n",
       "        <td>5</td>\n",
       "        <td>HOMICIDE</td>\n",
       "        <td>PROPERTY</td>\n",
       "    </tr>\n",
       "    <tr>\n",
       "        <td>6</td>\n",
       "        <td>NUISANCE</td>\n",
       "        <td>PROPERTY</td>\n",
       "    </tr>\n",
       "    <tr>\n",
       "        <td>7</td>\n",
       "        <td>ASSAULT</td>\n",
       "        <td>PROPERTY</td>\n",
       "    </tr>\n",
       "    <tr>\n",
       "        <td>8</td>\n",
       "        <td>NON-RESIDENTIAL BURGLARY</td>\n",
       "        <td>PERSONAL</td>\n",
       "    </tr>\n",
       "    <tr>\n",
       "        <td>9</td>\n",
       "        <td>BATTERY</td>\n",
       "        <td>PERSONAL</td>\n",
       "    </tr>\n",
       "    <tr>\n",
       "        <td>10</td>\n",
       "        <td>CRIMINAL DAMAGE TO PROPERTY</td>\n",
       "        <td>BLACK MARKET</td>\n",
       "    </tr>\n",
       "    <tr>\n",
       "        <td>11</td>\n",
       "        <td>FIREARM</td>\n",
       "        <td>OTHER MINOR</td>\n",
       "    </tr>\n",
       "    <tr>\n",
       "        <td>12</td>\n",
       "        <td>RESIDENTIAL BURGLARY</td>\n",
       "        <td>OTHER MINOR</td>\n",
       "    </tr>\n",
       "    <tr>\n",
       "        <td>13</td>\n",
       "        <td>NARCOTICS</td>\n",
       "        <td>BLACK MARKET</td>\n",
       "    </tr>\n",
       "    <tr>\n",
       "        <td>14</td>\n",
       "        <td>BUSINESS ROBBERY</td>\n",
       "        <td>PROPERTY</td>\n",
       "    </tr>\n",
       "    <tr>\n",
       "        <td>15</td>\n",
       "        <td>INDIVIDUAL ROBBERY</td>\n",
       "        <td>BLACK MARKET</td>\n",
       "    </tr>\n",
       "</table>"
      ],
      "text/plain": [
       "[(1, 'THEFT', 'PROPERTY'),\n",
       " (2, 'VEHICLE BURGLARY', 'PERSONAL'),\n",
       " (3, 'VICE', 'PROPERTY'),\n",
       " (4, 'OTHER', 'PROPERTY'),\n",
       " (5, 'HOMICIDE', 'PROPERTY'),\n",
       " (6, 'NUISANCE', 'PROPERTY'),\n",
       " (7, 'ASSAULT', 'PROPERTY'),\n",
       " (8, 'NON-RESIDENTIAL BURGLARY', 'PERSONAL'),\n",
       " (9, 'BATTERY', 'PERSONAL'),\n",
       " (10, 'CRIMINAL DAMAGE TO PROPERTY', 'BLACK MARKET'),\n",
       " (11, 'FIREARM', 'OTHER MINOR'),\n",
       " (12, 'RESIDENTIAL BURGLARY', 'OTHER MINOR'),\n",
       " (13, 'NARCOTICS', 'BLACK MARKET'),\n",
       " (14, 'BUSINESS ROBBERY', 'PROPERTY'),\n",
       " (15, 'INDIVIDUAL ROBBERY', 'BLACK MARKET')]"
      ]
     },
     "execution_count": 28,
     "metadata": {},
     "output_type": "execute_result"
    }
   ],
   "source": [
    "%%sql\n",
    "select * from crime_dim;"
   ]
  },
  {
   "cell_type": "markdown",
   "metadata": {},
   "source": [
    "The following statements create the File Number Dimension table. Since there are multiple rows associated with some of the file numbers, the combination of file_number and file_number_event is used to create a unique ID for the table. \n",
    "\n",
    "An example of a file number having multiple offenses is file number '1600106417'. This file number has three associated crimes: ill carrying weapon, resisting an officer, and assault. File Number Event will distinguish the different offense_date, offense_time, offense combinations for each file number."
   ]
  },
  {
   "cell_type": "code",
   "execution_count": 29,
   "metadata": {
    "collapsed": false
   },
   "outputs": [
    {
     "name": "stdout",
     "output_type": "stream",
     "text": [
      "Done.\n",
      "Done.\n"
     ]
    },
    {
     "data": {
      "text/plain": [
       "[]"
      ]
     },
     "execution_count": 29,
     "metadata": {},
     "output_type": "execute_result"
    }
   ],
   "source": [
    "%%sql\n",
    "DROP TABLE IF EXISTS file_number_dim;\n",
    "CREATE TABLE file_number_dim (\n",
    "  file_number_dim_id SERIAL PRIMARY KEY,\n",
    "  file_number char(10) DEFAULT NULL,\n",
    "  file_number_evnt integer DEFAULT NULL,\n",
    "  committed varchar(9) DEFAULT NULL\n",
    ");"
   ]
  },
  {
   "cell_type": "code",
   "execution_count": 30,
   "metadata": {
    "collapsed": false
   },
   "outputs": [
    {
     "name": "stdout",
     "output_type": "stream",
     "text": [
      "36715 rows affected.\n"
     ]
    },
    {
     "data": {
      "text/plain": [
       "[]"
      ]
     },
     "execution_count": 30,
     "metadata": {},
     "output_type": "execute_result"
    }
   ],
   "source": [
    "%%sql\n",
    "INSERT INTO file_number_dim (file_number, file_number_evnt, committed)\n",
    "SELECT \n",
    "    file_number, \n",
    "    file_number_evnt,\n",
    "    committed \n",
    "from BRcrime_2016\n",
    ";"
   ]
  },
  {
   "cell_type": "markdown",
   "metadata": {},
   "source": [
    "In the below output, 15 records from the newly created table are shown."
   ]
  },
  {
   "cell_type": "code",
   "execution_count": 31,
   "metadata": {
    "collapsed": false
   },
   "outputs": [
    {
     "name": "stdout",
     "output_type": "stream",
     "text": [
      "15 rows affected.\n"
     ]
    },
    {
     "data": {
      "text/html": [
       "<table>\n",
       "    <tr>\n",
       "        <th>file_number_dim_id</th>\n",
       "        <th>file_number</th>\n",
       "        <th>file_number_evnt</th>\n",
       "        <th>committed</th>\n",
       "    </tr>\n",
       "    <tr>\n",
       "        <td>1</td>\n",
       "        <td>1300098655</td>\n",
       "        <td>1</td>\n",
       "        <td>COMMITTED</td>\n",
       "    </tr>\n",
       "    <tr>\n",
       "        <td>2</td>\n",
       "        <td>1400062150</td>\n",
       "        <td>1</td>\n",
       "        <td>COMMITTED</td>\n",
       "    </tr>\n",
       "    <tr>\n",
       "        <td>3</td>\n",
       "        <td>1500026491</td>\n",
       "        <td>1</td>\n",
       "        <td>ATTEMPTED</td>\n",
       "    </tr>\n",
       "    <tr>\n",
       "        <td>4</td>\n",
       "        <td>1500030367</td>\n",
       "        <td>1</td>\n",
       "        <td>COMMITTED</td>\n",
       "    </tr>\n",
       "    <tr>\n",
       "        <td>5</td>\n",
       "        <td>1500072696</td>\n",
       "        <td>1</td>\n",
       "        <td>COMMITTED</td>\n",
       "    </tr>\n",
       "    <tr>\n",
       "        <td>6</td>\n",
       "        <td>1400096617</td>\n",
       "        <td>1</td>\n",
       "        <td>COMMITTED</td>\n",
       "    </tr>\n",
       "    <tr>\n",
       "        <td>7</td>\n",
       "        <td>1500026491</td>\n",
       "        <td>2</td>\n",
       "        <td>ATTEMPTED</td>\n",
       "    </tr>\n",
       "    <tr>\n",
       "        <td>8</td>\n",
       "        <td>1500099933</td>\n",
       "        <td>1</td>\n",
       "        <td>COMMITTED</td>\n",
       "    </tr>\n",
       "    <tr>\n",
       "        <td>9</td>\n",
       "        <td>1500112717</td>\n",
       "        <td>1</td>\n",
       "        <td>COMMITTED</td>\n",
       "    </tr>\n",
       "    <tr>\n",
       "        <td>10</td>\n",
       "        <td>1500110788</td>\n",
       "        <td>1</td>\n",
       "        <td>COMMITTED</td>\n",
       "    </tr>\n",
       "    <tr>\n",
       "        <td>11</td>\n",
       "        <td>1500110788</td>\n",
       "        <td>2</td>\n",
       "        <td>COMMITTED</td>\n",
       "    </tr>\n",
       "    <tr>\n",
       "        <td>12</td>\n",
       "        <td>1500110788</td>\n",
       "        <td>3</td>\n",
       "        <td>COMMITTED</td>\n",
       "    </tr>\n",
       "    <tr>\n",
       "        <td>13</td>\n",
       "        <td>1500110788</td>\n",
       "        <td>4</td>\n",
       "        <td>COMMITTED</td>\n",
       "    </tr>\n",
       "    <tr>\n",
       "        <td>14</td>\n",
       "        <td>1500120862</td>\n",
       "        <td>1</td>\n",
       "        <td>COMMITTED</td>\n",
       "    </tr>\n",
       "    <tr>\n",
       "        <td>15</td>\n",
       "        <td>1500121919</td>\n",
       "        <td>1</td>\n",
       "        <td>COMMITTED</td>\n",
       "    </tr>\n",
       "</table>"
      ],
      "text/plain": [
       "[(1, '1300098655', 1, 'COMMITTED'),\n",
       " (2, '1400062150', 1, 'COMMITTED'),\n",
       " (3, '1500026491', 1, 'ATTEMPTED'),\n",
       " (4, '1500030367', 1, 'COMMITTED'),\n",
       " (5, '1500072696', 1, 'COMMITTED'),\n",
       " (6, '1400096617', 1, 'COMMITTED'),\n",
       " (7, '1500026491', 2, 'ATTEMPTED'),\n",
       " (8, '1500099933', 1, 'COMMITTED'),\n",
       " (9, '1500112717', 1, 'COMMITTED'),\n",
       " (10, '1500110788', 1, 'COMMITTED'),\n",
       " (11, '1500110788', 2, 'COMMITTED'),\n",
       " (12, '1500110788', 3, 'COMMITTED'),\n",
       " (13, '1500110788', 4, 'COMMITTED'),\n",
       " (14, '1500120862', 1, 'COMMITTED'),\n",
       " (15, '1500121919', 1, 'COMMITTED')]"
      ]
     },
     "execution_count": 31,
     "metadata": {},
     "output_type": "execute_result"
    }
   ],
   "source": [
    "%%sql\n",
    "select * from file_number_dim limit 15;"
   ]
  },
  {
   "cell_type": "markdown",
   "metadata": {},
   "source": [
    "#### The following statements create the Offense Dimension table. Using the code below, it can be determined that Offense and Offense Description have a 1-to-1 relationship, so there is no need to make any changes."
   ]
  },
  {
   "cell_type": "code",
   "execution_count": 32,
   "metadata": {
    "collapsed": false
   },
   "outputs": [
    {
     "name": "stdout",
     "output_type": "stream",
     "text": [
      "2 rows affected.\n"
     ]
    },
    {
     "data": {
      "text/html": [
       "<table>\n",
       "    <tr>\n",
       "        <th>count</th>\n",
       "        <th>attributes_compared</th>\n",
       "    </tr>\n",
       "    <tr>\n",
       "        <td>541</td>\n",
       "        <td>Offense</td>\n",
       "    </tr>\n",
       "    <tr>\n",
       "        <td>541</td>\n",
       "        <td>Offense | Offense Description</td>\n",
       "    </tr>\n",
       "</table>"
      ],
      "text/plain": [
       "[(541, 'Offense'), (541, 'Offense | Offense Description')]"
      ]
     },
     "execution_count": 32,
     "metadata": {},
     "output_type": "execute_result"
    }
   ],
   "source": [
    "%%sql\n",
    "select count(*), 'Offense' as Attributes_Compared from \n",
    "(\n",
    "select offense\n",
    "from BRcrime_2016\n",
    "group by offense\n",
    ")t1\n",
    "\n",
    "UNION ALL\n",
    "\n",
    "select count(*), 'Offense | Offense Description' as Attributes_Compared from \n",
    "(\n",
    "select offense, offense_desc\n",
    "from BRcrime_2016\n",
    "group by offense, offense_desc\n",
    ")t2\n",
    ";"
   ]
  },
  {
   "cell_type": "code",
   "execution_count": 33,
   "metadata": {
    "collapsed": false
   },
   "outputs": [
    {
     "name": "stdout",
     "output_type": "stream",
     "text": [
      "Done.\n",
      "Done.\n"
     ]
    },
    {
     "data": {
      "text/plain": [
       "[]"
      ]
     },
     "execution_count": 33,
     "metadata": {},
     "output_type": "execute_result"
    }
   ],
   "source": [
    "%%sql\n",
    "DROP TABLE IF EXISTS offense_dim;\n",
    "CREATE TABLE offense_dim (\n",
    "  offense_dim_id SERIAL PRIMARY KEY,\n",
    "  offense char(15) DEFAULT NULL,\n",
    "  offense_description varchar(52) DEFAULT NULL\n",
    ");"
   ]
  },
  {
   "cell_type": "code",
   "execution_count": 34,
   "metadata": {
    "collapsed": false
   },
   "outputs": [
    {
     "name": "stdout",
     "output_type": "stream",
     "text": [
      "541 rows affected.\n"
     ]
    },
    {
     "data": {
      "text/plain": [
       "[]"
      ]
     },
     "execution_count": 34,
     "metadata": {},
     "output_type": "execute_result"
    }
   ],
   "source": [
    "%%sql\n",
    "INSERT INTO offense_dim (offense, offense_description)\n",
    "SELECT distinct offense, offense_desc from BRcrime_2016\n",
    ";"
   ]
  },
  {
   "cell_type": "markdown",
   "metadata": {},
   "source": [
    "See sample output for the Offense dimension table below."
   ]
  },
  {
   "cell_type": "code",
   "execution_count": 35,
   "metadata": {
    "collapsed": false
   },
   "outputs": [
    {
     "name": "stdout",
     "output_type": "stream",
     "text": [
      "5 rows affected.\n"
     ]
    },
    {
     "data": {
      "text/html": [
       "<table>\n",
       "    <tr>\n",
       "        <th>offense_dim_id</th>\n",
       "        <th>offense</th>\n",
       "        <th>offense_description</th>\n",
       "    </tr>\n",
       "    <tr>\n",
       "        <td>1</td>\n",
       "        <td>32:64          </td>\n",
       "        <td>DRIVING TOO SLOW</td>\n",
       "    </tr>\n",
       "    <tr>\n",
       "        <td>2</td>\n",
       "        <td>14:220.1       </td>\n",
       "        <td>LEASED MOVEABLES FALSE REPRES</td>\n",
       "    </tr>\n",
       "    <tr>\n",
       "        <td>3</td>\n",
       "        <td>11:106         </td>\n",
       "        <td>TURN R/L REQUIRED/CC</td>\n",
       "    </tr>\n",
       "    <tr>\n",
       "        <td>4</td>\n",
       "        <td>32:122         </td>\n",
       "        <td>RIGHT OF WAY/FAIL TO YIELD</td>\n",
       "    </tr>\n",
       "    <tr>\n",
       "        <td>5</td>\n",
       "        <td>14:67.15       </td>\n",
       "        <td>THEFT OF A FIREARM</td>\n",
       "    </tr>\n",
       "</table>"
      ],
      "text/plain": [
       "[(1, '32:64          ', 'DRIVING TOO SLOW'),\n",
       " (2, '14:220.1       ', 'LEASED MOVEABLES FALSE REPRES'),\n",
       " (3, '11:106         ', 'TURN R/L REQUIRED/CC'),\n",
       " (4, '32:122         ', 'RIGHT OF WAY/FAIL TO YIELD'),\n",
       " (5, '14:67.15       ', 'THEFT OF A FIREARM')]"
      ]
     },
     "execution_count": 35,
     "metadata": {},
     "output_type": "execute_result"
    }
   ],
   "source": [
    "%%sql\n",
    "select * from offense_dim limit 5;"
   ]
  },
  {
   "cell_type": "markdown",
   "metadata": {},
   "source": [
    "#### Using a similar approach, the following statements create the Location Dimension table. "
   ]
  },
  {
   "cell_type": "code",
   "execution_count": 36,
   "metadata": {
    "collapsed": false
   },
   "outputs": [
    {
     "name": "stdout",
     "output_type": "stream",
     "text": [
      "Done.\n",
      "Done.\n"
     ]
    },
    {
     "data": {
      "text/plain": [
       "[]"
      ]
     },
     "execution_count": 36,
     "metadata": {},
     "output_type": "execute_result"
    }
   ],
   "source": [
    "%%sql\n",
    "DROP TABLE IF EXISTS location_dim;\n",
    "CREATE TABLE location_dim (\n",
    "  location_dim_id SERIAL PRIMARY KEY,\n",
    "  address char(37) DEFAULT NULL,\n",
    "  st_number integer DEFAULT NULL,\n",
    "  st_dir char(4) DEFAULT NULL,\n",
    "  st_name varchar(28) DEFAULT NULL,\n",
    "  st_type char(4) DEFAULT NULL,\n",
    "  city varchar(11) DEFAULT NULL,\n",
    "  state char(4) DEFAULT NULL,\n",
    "  zip char(9) DEFAULT NULL,\n",
    "  geolocation varchar(81) DEFAULT NULL\n",
    ");"
   ]
  },
  {
   "cell_type": "code",
   "execution_count": 37,
   "metadata": {
    "collapsed": false
   },
   "outputs": [
    {
     "name": "stdout",
     "output_type": "stream",
     "text": [
      "18997 rows affected.\n"
     ]
    },
    {
     "data": {
      "text/plain": [
       "[]"
      ]
     },
     "execution_count": 37,
     "metadata": {},
     "output_type": "execute_result"
    }
   ],
   "source": [
    "%%sql\n",
    "INSERT INTO location_dim (address, st_number, st_dir, st_name, st_type, city, state, zip, geolocation)\n",
    "SELECT distinct address, st_number, st_dir, st_name, st_type, city, state, zip, geolocation from BRcrime_2016\n",
    ";"
   ]
  },
  {
   "cell_type": "markdown",
   "metadata": {},
   "source": [
    "See sample output for the Location Dimension table below."
   ]
  },
  {
   "cell_type": "code",
   "execution_count": 38,
   "metadata": {
    "collapsed": false
   },
   "outputs": [
    {
     "name": "stdout",
     "output_type": "stream",
     "text": [
      "5 rows affected.\n"
     ]
    },
    {
     "data": {
      "text/html": [
       "<table>\n",
       "    <tr>\n",
       "        <th>location_dim_id</th>\n",
       "        <th>address</th>\n",
       "        <th>st_number</th>\n",
       "        <th>st_dir</th>\n",
       "        <th>st_name</th>\n",
       "        <th>st_type</th>\n",
       "        <th>city</th>\n",
       "        <th>state</th>\n",
       "        <th>zip</th>\n",
       "        <th>geolocation</th>\n",
       "    </tr>\n",
       "    <tr>\n",
       "        <td>1</td>\n",
       "        <td>1910  BRIGHTSIDE LN                  </td>\n",
       "        <td>1910</td>\n",
       "        <td>Null</td>\n",
       "        <td>BRIGHTSIDE</td>\n",
       "        <td>LN  </td>\n",
       "        <td>BATON ROUGE</td>\n",
       "        <td>LA  </td>\n",
       "        <td>Null     </td>\n",
       "        <td>1910 BRIGHTSIDE LN<br>BATON ROUGE, LA<br>(30.387981, -91.179534)</td>\n",
       "    </tr>\n",
       "    <tr>\n",
       "        <td>2</td>\n",
       "        <td>5905  FLORIDA BL                     </td>\n",
       "        <td>5905</td>\n",
       "        <td>Null</td>\n",
       "        <td>FLORIDA</td>\n",
       "        <td>BL  </td>\n",
       "        <td>BATON ROUGE</td>\n",
       "        <td>LA  </td>\n",
       "        <td>Null     </td>\n",
       "        <td>5905 FLORIDA BL<br>BATON ROUGE, LA<br></td>\n",
       "    </tr>\n",
       "    <tr>\n",
       "        <td>3</td>\n",
       "        <td>2167  75TH AV                        </td>\n",
       "        <td>2167</td>\n",
       "        <td>Null</td>\n",
       "        <td>75TH</td>\n",
       "        <td>AV  </td>\n",
       "        <td>BATON ROUGE</td>\n",
       "        <td>LA  </td>\n",
       "        <td>Null     </td>\n",
       "        <td>2167 75TH AV<br>BATON ROUGE, LA<br>(30.516426, -91.170356)</td>\n",
       "    </tr>\n",
       "    <tr>\n",
       "        <td>4</td>\n",
       "        <td>1120  SPANISH TOWN RD                </td>\n",
       "        <td>1120</td>\n",
       "        <td>Null</td>\n",
       "        <td>SPANISH TOWN</td>\n",
       "        <td>RD  </td>\n",
       "        <td>BATON ROUGE</td>\n",
       "        <td>LA  </td>\n",
       "        <td>70802    </td>\n",
       "        <td>1120 SPANISH TOWN RD<br>BATON ROUGE, LA 70802<br>(30.454902, -91.178445)</td>\n",
       "    </tr>\n",
       "    <tr>\n",
       "        <td>5</td>\n",
       "        <td>5379  HIGHLAND RD                    </td>\n",
       "        <td>5379</td>\n",
       "        <td>Null</td>\n",
       "        <td>HIGHLAND</td>\n",
       "        <td>RD  </td>\n",
       "        <td>BATON ROUGE</td>\n",
       "        <td>LA  </td>\n",
       "        <td>Null     </td>\n",
       "        <td>5379 HIGHLAND RD<br>BATON ROUGE, LA<br>(30.393431, -91.159201)</td>\n",
       "    </tr>\n",
       "</table>"
      ],
      "text/plain": [
       "[(1, '1910  BRIGHTSIDE LN                  ', 1910, 'Null', 'BRIGHTSIDE', 'LN  ', 'BATON ROUGE', 'LA  ', 'Null     ', '1910 BRIGHTSIDE LN\\nBATON ROUGE, LA\\n(30.387981, -91.179534)'),\n",
       " (2, '5905  FLORIDA BL                     ', 5905, 'Null', 'FLORIDA', 'BL  ', 'BATON ROUGE', 'LA  ', 'Null     ', '5905 FLORIDA BL\\nBATON ROUGE, LA\\n'),\n",
       " (3, '2167  75TH AV                        ', 2167, 'Null', '75TH', 'AV  ', 'BATON ROUGE', 'LA  ', 'Null     ', '2167 75TH AV\\nBATON ROUGE, LA\\n(30.516426, -91.170356)'),\n",
       " (4, '1120  SPANISH TOWN RD                ', 1120, 'Null', 'SPANISH TOWN', 'RD  ', 'BATON ROUGE', 'LA  ', '70802    ', '1120 SPANISH TOWN RD\\nBATON ROUGE, LA 70802\\n(30.454902, -91.178445)'),\n",
       " (5, '5379  HIGHLAND RD                    ', 5379, 'Null', 'HIGHLAND', 'RD  ', 'BATON ROUGE', 'LA  ', 'Null     ', '5379 HIGHLAND RD\\nBATON ROUGE, LA\\n(30.393431, -91.159201)')]"
      ]
     },
     "execution_count": 38,
     "metadata": {},
     "output_type": "execute_result"
    }
   ],
   "source": [
    "%%sql\n",
    "select * from location_dim limit 5;"
   ]
  },
  {
   "cell_type": "markdown",
   "metadata": {},
   "source": [
    "#### The following statements create the district Dimension table. Complete district, district, zone, subzone all have a 1-to-1 relationship, so no need to make any changes."
   ]
  },
  {
   "cell_type": "code",
   "execution_count": 39,
   "metadata": {
    "collapsed": false
   },
   "outputs": [
    {
     "name": "stdout",
     "output_type": "stream",
     "text": [
      "2 rows affected.\n"
     ]
    },
    {
     "data": {
      "text/html": [
       "<table>\n",
       "    <tr>\n",
       "        <th>count</th>\n",
       "        <th>attributes_compared</th>\n",
       "    </tr>\n",
       "    <tr>\n",
       "        <td>73</td>\n",
       "        <td>district</td>\n",
       "    </tr>\n",
       "    <tr>\n",
       "        <td>73</td>\n",
       "        <td>complete district | district | zone | subzone</td>\n",
       "    </tr>\n",
       "</table>"
      ],
      "text/plain": [
       "[(73, 'district'), (73, 'complete district | district | zone | subzone')]"
      ]
     },
     "execution_count": 39,
     "metadata": {},
     "output_type": "execute_result"
    }
   ],
   "source": [
    "%%sql\n",
    "select count(*), 'district' as Attributes_Compared from \n",
    "(\n",
    "select complete_district\n",
    "from BRcrime_2016\n",
    "group by complete_district\n",
    ")t1\n",
    "\n",
    "UNION ALL\n",
    "\n",
    "select count(*), 'complete district | district | zone | subzone' as Attributes_Compared from \n",
    "(\n",
    "select complete_district, district, zone, subzone\n",
    "from BRcrime_2016\n",
    "group by complete_district, district, zone, subzone\n",
    ")t2\n",
    ";"
   ]
  },
  {
   "cell_type": "code",
   "execution_count": 40,
   "metadata": {
    "collapsed": false
   },
   "outputs": [
    {
     "name": "stdout",
     "output_type": "stream",
     "text": [
      "Done.\n",
      "Done.\n"
     ]
    },
    {
     "data": {
      "text/plain": [
       "[]"
      ]
     },
     "execution_count": 40,
     "metadata": {},
     "output_type": "execute_result"
    }
   ],
   "source": [
    "%%sql\n",
    "DROP TABLE IF EXISTS district_dim;\n",
    "CREATE TABLE district_dim (\n",
    "  complete_district_dim_id SERIAL PRIMARY KEY,\n",
    "  complete_district char(5) DEFAULT NULL,\n",
    "  district char(1) DEFAULT NULL,\n",
    "  zone char(5) DEFAULT NULL,\n",
    "  subzone char(5) DEFAULT NULL\n",
    ");"
   ]
  },
  {
   "cell_type": "code",
   "execution_count": 41,
   "metadata": {
    "collapsed": false
   },
   "outputs": [
    {
     "name": "stdout",
     "output_type": "stream",
     "text": [
      "73 rows affected.\n"
     ]
    },
    {
     "data": {
      "text/plain": [
       "[]"
      ]
     },
     "execution_count": 41,
     "metadata": {},
     "output_type": "execute_result"
    }
   ],
   "source": [
    "%%sql\n",
    "INSERT INTO district_dim (complete_district, district, zone, subzone)\n",
    "SELECT distinct complete_district, district, zone, subzone from BRcrime_2016\n",
    ";"
   ]
  },
  {
   "cell_type": "code",
   "execution_count": 42,
   "metadata": {
    "collapsed": false
   },
   "outputs": [
    {
     "name": "stdout",
     "output_type": "stream",
     "text": [
      "5 rows affected.\n"
     ]
    },
    {
     "data": {
      "text/html": [
       "<table>\n",
       "    <tr>\n",
       "        <th>complete_district_dim_id</th>\n",
       "        <th>complete_district</th>\n",
       "        <th>district</th>\n",
       "        <th>zone</th>\n",
       "        <th>subzone</th>\n",
       "    </tr>\n",
       "    <tr>\n",
       "        <td>1</td>\n",
       "        <td>1B1  </td>\n",
       "        <td>1</td>\n",
       "        <td>B    </td>\n",
       "        <td>1    </td>\n",
       "    </tr>\n",
       "    <tr>\n",
       "        <td>2</td>\n",
       "        <td>3F2  </td>\n",
       "        <td>3</td>\n",
       "        <td>F    </td>\n",
       "        <td>2    </td>\n",
       "    </tr>\n",
       "    <tr>\n",
       "        <td>3</td>\n",
       "        <td>1F2  </td>\n",
       "        <td>1</td>\n",
       "        <td>F    </td>\n",
       "        <td>2    </td>\n",
       "    </tr>\n",
       "    <tr>\n",
       "        <td>4</td>\n",
       "        <td>OTH  </td>\n",
       "        <td>O</td>\n",
       "        <td>T    </td>\n",
       "        <td>H    </td>\n",
       "    </tr>\n",
       "    <tr>\n",
       "        <td>5</td>\n",
       "        <td>1A2  </td>\n",
       "        <td>1</td>\n",
       "        <td>A    </td>\n",
       "        <td>2    </td>\n",
       "    </tr>\n",
       "</table>"
      ],
      "text/plain": [
       "[(1, '1B1  ', '1', 'B    ', '1    '),\n",
       " (2, '3F2  ', '3', 'F    ', '2    '),\n",
       " (3, '1F2  ', '1', 'F    ', '2    '),\n",
       " (4, 'OTH  ', 'O', 'T    ', 'H    '),\n",
       " (5, '1A2  ', '1', 'A    ', '2    ')]"
      ]
     },
     "execution_count": 42,
     "metadata": {},
     "output_type": "execute_result"
    }
   ],
   "source": [
    "%%sql\n",
    "select * from district_dim limit 5;"
   ]
  },
  {
   "cell_type": "markdown",
   "metadata": {},
   "source": [
    "#### The following statements create the Datetime Dimension table. This table includes the defined fields breaking the date out into parts."
   ]
  },
  {
   "cell_type": "code",
   "execution_count": 43,
   "metadata": {
    "collapsed": false
   },
   "outputs": [
    {
     "name": "stdout",
     "output_type": "stream",
     "text": [
      "Done.\n",
      "Done.\n"
     ]
    },
    {
     "data": {
      "text/plain": [
       "[]"
      ]
     },
     "execution_count": 43,
     "metadata": {},
     "output_type": "execute_result"
    }
   ],
   "source": [
    "%%sql\n",
    "DROP TABLE IF EXISTS datetime_dim;\n",
    "CREATE TABLE datetime_dim (\n",
    "  datetime_dim_id SERIAL PRIMARY KEY,\n",
    "  offense_date TIMESTAMP DEFAULT NULL,\n",
    "  offense_time VARCHAR(4) DEFAULT NULL,\n",
    "  offense_day_of_year CHAR(10) DEFAULT NULL,\n",
    "  offense_year INTEGER DEFAULT NULL,\n",
    "  offense_month INTEGER DEFAULT NULL,\n",
    "  offense_day INTEGER DEFAULT NULL,\n",
    "  offense_day_of_week_str VARCHAR(9) DEFAULT NULL\n",
    ")\n",
    ";"
   ]
  },
  {
   "cell_type": "markdown",
   "metadata": {},
   "source": [
    "Note that this ID is ordered by Offense Date and Offense Time."
   ]
  },
  {
   "cell_type": "code",
   "execution_count": 44,
   "metadata": {
    "collapsed": false
   },
   "outputs": [
    {
     "name": "stdout",
     "output_type": "stream",
     "text": [
      "21634 rows affected.\n"
     ]
    },
    {
     "data": {
      "text/plain": [
       "[]"
      ]
     },
     "execution_count": 44,
     "metadata": {},
     "output_type": "execute_result"
    }
   ],
   "source": [
    "%%sql\n",
    "INSERT INTO datetime_dim (offense_date, offense_time, offense_day_of_year, offense_year, offense_month, offense_day, offense_day_of_week_str)\n",
    "SELECT distinct\n",
    "    offense_date,\n",
    "    offense_time, \n",
    "    offense_day_of_year, \n",
    "    offense_year, offense_month, \n",
    "    offense_day, \n",
    "    offense_day_of_week_str \n",
    "    from BRcrime_2016\n",
    "    ORDER BY 1,2\n",
    ";"
   ]
  },
  {
   "cell_type": "code",
   "execution_count": 45,
   "metadata": {
    "collapsed": false
   },
   "outputs": [
    {
     "name": "stdout",
     "output_type": "stream",
     "text": [
      "5 rows affected.\n"
     ]
    },
    {
     "data": {
      "text/html": [
       "<table>\n",
       "    <tr>\n",
       "        <th>datetime_dim_id</th>\n",
       "        <th>offense_date</th>\n",
       "        <th>offense_time</th>\n",
       "        <th>offense_day_of_year</th>\n",
       "        <th>offense_year</th>\n",
       "        <th>offense_month</th>\n",
       "        <th>offense_day</th>\n",
       "        <th>offense_day_of_week_str</th>\n",
       "    </tr>\n",
       "    <tr>\n",
       "        <td>1</td>\n",
       "        <td>2016-01-01 00:00:00</td>\n",
       "        <td>0000</td>\n",
       "        <td>2016-01-01</td>\n",
       "        <td>2016</td>\n",
       "        <td>1</td>\n",
       "        <td>1</td>\n",
       "        <td>Friday</td>\n",
       "    </tr>\n",
       "    <tr>\n",
       "        <td>2</td>\n",
       "        <td>2016-01-01 00:00:00</td>\n",
       "        <td>0001</td>\n",
       "        <td>2016-01-01</td>\n",
       "        <td>2016</td>\n",
       "        <td>1</td>\n",
       "        <td>1</td>\n",
       "        <td>Friday</td>\n",
       "    </tr>\n",
       "    <tr>\n",
       "        <td>3</td>\n",
       "        <td>2016-01-01 00:00:00</td>\n",
       "        <td>0005</td>\n",
       "        <td>2016-01-01</td>\n",
       "        <td>2016</td>\n",
       "        <td>1</td>\n",
       "        <td>1</td>\n",
       "        <td>Friday</td>\n",
       "    </tr>\n",
       "    <tr>\n",
       "        <td>4</td>\n",
       "        <td>2016-01-01 00:00:00</td>\n",
       "        <td>0010</td>\n",
       "        <td>2016-01-01</td>\n",
       "        <td>2016</td>\n",
       "        <td>1</td>\n",
       "        <td>1</td>\n",
       "        <td>Friday</td>\n",
       "    </tr>\n",
       "    <tr>\n",
       "        <td>5</td>\n",
       "        <td>2016-01-01 00:00:00</td>\n",
       "        <td>0020</td>\n",
       "        <td>2016-01-01</td>\n",
       "        <td>2016</td>\n",
       "        <td>1</td>\n",
       "        <td>1</td>\n",
       "        <td>Friday</td>\n",
       "    </tr>\n",
       "</table>"
      ],
      "text/plain": [
       "[(1, datetime.datetime(2016, 1, 1, 0, 0), '0000', '2016-01-01', 2016, 1, 1, 'Friday'),\n",
       " (2, datetime.datetime(2016, 1, 1, 0, 0), '0001', '2016-01-01', 2016, 1, 1, 'Friday'),\n",
       " (3, datetime.datetime(2016, 1, 1, 0, 0), '0005', '2016-01-01', 2016, 1, 1, 'Friday'),\n",
       " (4, datetime.datetime(2016, 1, 1, 0, 0), '0010', '2016-01-01', 2016, 1, 1, 'Friday'),\n",
       " (5, datetime.datetime(2016, 1, 1, 0, 0), '0020', '2016-01-01', 2016, 1, 1, 'Friday')]"
      ]
     },
     "execution_count": 45,
     "metadata": {},
     "output_type": "execute_result"
    }
   ],
   "source": [
    "%%sql\n",
    "select * from datetime_dim limit 5;"
   ]
  },
  {
   "cell_type": "markdown",
   "metadata": {
    "collapsed": true
   },
   "source": [
    "#### The following statements create the Baton Route Crime Fact table. "
   ]
  },
  {
   "cell_type": "code",
   "execution_count": 46,
   "metadata": {
    "collapsed": false
   },
   "outputs": [
    {
     "name": "stdout",
     "output_type": "stream",
     "text": [
      "Done.\n",
      "Done.\n"
     ]
    },
    {
     "data": {
      "text/plain": [
       "[]"
      ]
     },
     "execution_count": 46,
     "metadata": {},
     "output_type": "execute_result"
    }
   ],
   "source": [
    "%%sql\n",
    "DROP TABLE IF EXISTS br_crime_fact;\n",
    "CREATE TABLE br_crime_fact (\n",
    "  FILE_NUMBER_DIM_ID INTEGER,\n",
    "  DATETIME_DIM_ID INTEGER,\n",
    "  CRIME_DIM_ID INTEGER, \n",
    "  OFFENSE_DIM_ID INTEGER, \n",
    "  LOCATION_DIM_ID INTEGER, \n",
    "  COMPLETE_DISTRICT_DIM_ID INTEGER, \n",
    "  FILE_NUMBER_CNT INTEGER, \n",
    "  COMMITED_CNT INTEGER, \n",
    "  ATTEMPTED_CNT INTEGER, \n",
    "  PERSONAL_CRIME_CNT INTEGER, \n",
    "  PROPERTY_CRIME_CNT INTEGER,\n",
    "  BLACK_MARKET_CRIME_CNT INTEGER,\n",
    "  OTHER_MINOR_CRIME_CNT INTEGER\n",
    ");"
   ]
  },
  {
   "cell_type": "markdown",
   "metadata": {},
   "source": [
    "#### The following statement updates the fact table with all the file_number_dim_ids."
   ]
  },
  {
   "cell_type": "code",
   "execution_count": 47,
   "metadata": {
    "collapsed": false
   },
   "outputs": [
    {
     "name": "stdout",
     "output_type": "stream",
     "text": [
      "36715 rows affected.\n"
     ]
    },
    {
     "data": {
      "text/plain": [
       "[]"
      ]
     },
     "execution_count": 47,
     "metadata": {},
     "output_type": "execute_result"
    }
   ],
   "source": [
    "%%sql\n",
    "INSERT INTO br_crime_fact (file_number_dim_id)\n",
    "SELECT file_number_dim_id from file_number_dim\n",
    ";"
   ]
  },
  {
   "cell_type": "code",
   "execution_count": 48,
   "metadata": {
    "collapsed": false,
    "scrolled": true
   },
   "outputs": [
    {
     "name": "stdout",
     "output_type": "stream",
     "text": [
      "5 rows affected.\n"
     ]
    },
    {
     "data": {
      "text/html": [
       "<table>\n",
       "    <tr>\n",
       "        <th>file_number_dim_id</th>\n",
       "        <th>datetime_dim_id</th>\n",
       "        <th>crime_dim_id</th>\n",
       "        <th>offense_dim_id</th>\n",
       "        <th>location_dim_id</th>\n",
       "        <th>complete_district_dim_id</th>\n",
       "        <th>file_number_cnt</th>\n",
       "        <th>commited_cnt</th>\n",
       "        <th>attempted_cnt</th>\n",
       "        <th>personal_crime_cnt</th>\n",
       "        <th>property_crime_cnt</th>\n",
       "        <th>black_market_crime_cnt</th>\n",
       "        <th>other_minor_crime_cnt</th>\n",
       "    </tr>\n",
       "    <tr>\n",
       "        <td>1</td>\n",
       "        <td>None</td>\n",
       "        <td>None</td>\n",
       "        <td>None</td>\n",
       "        <td>None</td>\n",
       "        <td>None</td>\n",
       "        <td>None</td>\n",
       "        <td>None</td>\n",
       "        <td>None</td>\n",
       "        <td>None</td>\n",
       "        <td>None</td>\n",
       "        <td>None</td>\n",
       "        <td>None</td>\n",
       "    </tr>\n",
       "    <tr>\n",
       "        <td>2</td>\n",
       "        <td>None</td>\n",
       "        <td>None</td>\n",
       "        <td>None</td>\n",
       "        <td>None</td>\n",
       "        <td>None</td>\n",
       "        <td>None</td>\n",
       "        <td>None</td>\n",
       "        <td>None</td>\n",
       "        <td>None</td>\n",
       "        <td>None</td>\n",
       "        <td>None</td>\n",
       "        <td>None</td>\n",
       "    </tr>\n",
       "    <tr>\n",
       "        <td>3</td>\n",
       "        <td>None</td>\n",
       "        <td>None</td>\n",
       "        <td>None</td>\n",
       "        <td>None</td>\n",
       "        <td>None</td>\n",
       "        <td>None</td>\n",
       "        <td>None</td>\n",
       "        <td>None</td>\n",
       "        <td>None</td>\n",
       "        <td>None</td>\n",
       "        <td>None</td>\n",
       "        <td>None</td>\n",
       "    </tr>\n",
       "    <tr>\n",
       "        <td>4</td>\n",
       "        <td>None</td>\n",
       "        <td>None</td>\n",
       "        <td>None</td>\n",
       "        <td>None</td>\n",
       "        <td>None</td>\n",
       "        <td>None</td>\n",
       "        <td>None</td>\n",
       "        <td>None</td>\n",
       "        <td>None</td>\n",
       "        <td>None</td>\n",
       "        <td>None</td>\n",
       "        <td>None</td>\n",
       "    </tr>\n",
       "    <tr>\n",
       "        <td>5</td>\n",
       "        <td>None</td>\n",
       "        <td>None</td>\n",
       "        <td>None</td>\n",
       "        <td>None</td>\n",
       "        <td>None</td>\n",
       "        <td>None</td>\n",
       "        <td>None</td>\n",
       "        <td>None</td>\n",
       "        <td>None</td>\n",
       "        <td>None</td>\n",
       "        <td>None</td>\n",
       "        <td>None</td>\n",
       "    </tr>\n",
       "</table>"
      ],
      "text/plain": [
       "[(1, None, None, None, None, None, None, None, None, None, None, None, None),\n",
       " (2, None, None, None, None, None, None, None, None, None, None, None, None),\n",
       " (3, None, None, None, None, None, None, None, None, None, None, None, None),\n",
       " (4, None, None, None, None, None, None, None, None, None, None, None, None),\n",
       " (5, None, None, None, None, None, None, None, None, None, None, None, None)]"
      ]
     },
     "execution_count": 48,
     "metadata": {},
     "output_type": "execute_result"
    }
   ],
   "source": [
    "%%sql\n",
    "select * from br_crime_fact limit 5;"
   ]
  },
  {
   "cell_type": "markdown",
   "metadata": {},
   "source": [
    "#### The following statement updates the fact table with the associated crime dim id."
   ]
  },
  {
   "cell_type": "code",
   "execution_count": 49,
   "metadata": {
    "collapsed": false,
    "scrolled": true
   },
   "outputs": [
    {
     "name": "stdout",
     "output_type": "stream",
     "text": [
      "36715 rows affected.\n"
     ]
    },
    {
     "data": {
      "text/plain": [
       "[]"
      ]
     },
     "execution_count": 49,
     "metadata": {},
     "output_type": "execute_result"
    }
   ],
   "source": [
    "%%sql\n",
    "UPDATE \n",
    "  br_crime_fact T1  \n",
    "SET \n",
    "  crime_dim_id = T2.crime_dim_id \n",
    "FROM \n",
    "  crime_dim T2 \n",
    "  INNER JOIN BRcrime_2016 T3 ON T2.CRIME = T3.CRIME\n",
    "  INNER JOIN file_number_dim T4 ON T3.FILE_NUMBER = T4.FILE_NUMBER AND T3.FILE_NUMBER_EVNT = T4.FILE_NUMBER_EVNT\n",
    "WHERE \n",
    "  T1.FILE_NUMBER_DIM_ID = T4.FILE_NUMBER_DIM_ID\n",
    ";"
   ]
  },
  {
   "cell_type": "markdown",
   "metadata": {},
   "source": [
    "#### The following is a check to make sure that the crime dim id is associated to the correct file number | file number event."
   ]
  },
  {
   "cell_type": "code",
   "execution_count": 50,
   "metadata": {
    "collapsed": false,
    "scrolled": false
   },
   "outputs": [
    {
     "name": "stdout",
     "output_type": "stream",
     "text": [
      "3 rows affected.\n"
     ]
    },
    {
     "data": {
      "text/html": [
       "<table>\n",
       "    <tr>\n",
       "        <th>file_number_dim_id</th>\n",
       "        <th>file_number</th>\n",
       "        <th>file_number_evnt</th>\n",
       "        <th>committed</th>\n",
       "    </tr>\n",
       "    <tr>\n",
       "        <td>22412</td>\n",
       "        <td>1600106417</td>\n",
       "        <td>1</td>\n",
       "        <td>COMMITTED</td>\n",
       "    </tr>\n",
       "    <tr>\n",
       "        <td>22413</td>\n",
       "        <td>1600106417</td>\n",
       "        <td>2</td>\n",
       "        <td>COMMITTED</td>\n",
       "    </tr>\n",
       "    <tr>\n",
       "        <td>22414</td>\n",
       "        <td>1600106417</td>\n",
       "        <td>3</td>\n",
       "        <td>COMMITTED</td>\n",
       "    </tr>\n",
       "</table>"
      ],
      "text/plain": [
       "[(22412, '1600106417', 1, 'COMMITTED'),\n",
       " (22413, '1600106417', 2, 'COMMITTED'),\n",
       " (22414, '1600106417', 3, 'COMMITTED')]"
      ]
     },
     "execution_count": 50,
     "metadata": {},
     "output_type": "execute_result"
    }
   ],
   "source": [
    "%%sql\n",
    "select * from file_number_dim where file_number IN ('1600106417');"
   ]
  },
  {
   "cell_type": "code",
   "execution_count": 51,
   "metadata": {
    "collapsed": false
   },
   "outputs": [
    {
     "name": "stdout",
     "output_type": "stream",
     "text": [
      "3 rows affected.\n"
     ]
    },
    {
     "data": {
      "text/html": [
       "<table>\n",
       "    <tr>\n",
       "        <th>file_number</th>\n",
       "        <th>file_number_evnt</th>\n",
       "        <th>crime</th>\n",
       "    </tr>\n",
       "    <tr>\n",
       "        <td>1600106417</td>\n",
       "        <td>1</td>\n",
       "        <td>OTHER</td>\n",
       "    </tr>\n",
       "    <tr>\n",
       "        <td>1600106417</td>\n",
       "        <td>2</td>\n",
       "        <td>ASSAULT</td>\n",
       "    </tr>\n",
       "    <tr>\n",
       "        <td>1600106417</td>\n",
       "        <td>3</td>\n",
       "        <td>FIREARM</td>\n",
       "    </tr>\n",
       "</table>"
      ],
      "text/plain": [
       "[('1600106417', 1, 'OTHER'),\n",
       " ('1600106417', 2, 'ASSAULT'),\n",
       " ('1600106417', 3, 'FIREARM')]"
      ]
     },
     "execution_count": 51,
     "metadata": {},
     "output_type": "execute_result"
    }
   ],
   "source": [
    "%%sql\n",
    "select file_number, file_number_evnt, crime from BRcrime_2016 where file_number IN ('1600106417');"
   ]
  },
  {
   "cell_type": "code",
   "execution_count": 52,
   "metadata": {
    "collapsed": false
   },
   "outputs": [
    {
     "name": "stdout",
     "output_type": "stream",
     "text": [
      "3 rows affected.\n"
     ]
    },
    {
     "data": {
      "text/html": [
       "<table>\n",
       "    <tr>\n",
       "        <th>crime_dim_id</th>\n",
       "        <th>crime</th>\n",
       "        <th>crime_type</th>\n",
       "    </tr>\n",
       "    <tr>\n",
       "        <td>4</td>\n",
       "        <td>OTHER</td>\n",
       "        <td>PROPERTY</td>\n",
       "    </tr>\n",
       "    <tr>\n",
       "        <td>7</td>\n",
       "        <td>ASSAULT</td>\n",
       "        <td>PROPERTY</td>\n",
       "    </tr>\n",
       "    <tr>\n",
       "        <td>11</td>\n",
       "        <td>FIREARM</td>\n",
       "        <td>OTHER MINOR</td>\n",
       "    </tr>\n",
       "</table>"
      ],
      "text/plain": [
       "[(4, 'OTHER', 'PROPERTY'),\n",
       " (7, 'ASSAULT', 'PROPERTY'),\n",
       " (11, 'FIREARM', 'OTHER MINOR')]"
      ]
     },
     "execution_count": 52,
     "metadata": {},
     "output_type": "execute_result"
    }
   ],
   "source": [
    "%%sql\n",
    "select * from crime_dim where crime IN ('OTHER','ASSAULT','FIREARM');"
   ]
  },
  {
   "cell_type": "code",
   "execution_count": 53,
   "metadata": {
    "collapsed": false,
    "scrolled": true
   },
   "outputs": [
    {
     "name": "stdout",
     "output_type": "stream",
     "text": [
      "3 rows affected.\n"
     ]
    },
    {
     "data": {
      "text/html": [
       "<table>\n",
       "    <tr>\n",
       "        <th>file_number_dim_id</th>\n",
       "        <th>crime_dim_id</th>\n",
       "        <th>file_number</th>\n",
       "        <th>file_number_evnt</th>\n",
       "        <th>crime</th>\n",
       "    </tr>\n",
       "    <tr>\n",
       "        <td>22412</td>\n",
       "        <td>4</td>\n",
       "        <td>1600106417</td>\n",
       "        <td>1</td>\n",
       "        <td>OTHER</td>\n",
       "    </tr>\n",
       "    <tr>\n",
       "        <td>22413</td>\n",
       "        <td>7</td>\n",
       "        <td>1600106417</td>\n",
       "        <td>2</td>\n",
       "        <td>ASSAULT</td>\n",
       "    </tr>\n",
       "    <tr>\n",
       "        <td>22414</td>\n",
       "        <td>11</td>\n",
       "        <td>1600106417</td>\n",
       "        <td>3</td>\n",
       "        <td>FIREARM</td>\n",
       "    </tr>\n",
       "</table>"
      ],
      "text/plain": [
       "[(22412, 4, '1600106417', 1, 'OTHER'),\n",
       " (22413, 7, '1600106417', 2, 'ASSAULT'),\n",
       " (22414, 11, '1600106417', 3, 'FIREARM')]"
      ]
     },
     "execution_count": 53,
     "metadata": {},
     "output_type": "execute_result"
    }
   ],
   "source": [
    "%%sql\n",
    "select a.file_number_dim_id, a.crime_dim_id, b.file_number, b.file_number_evnt, c.crime\n",
    "from br_crime_fact a JOIN file_number_dim b ON a.file_number_dim_id = b.file_number_dim_id\n",
    "                     JOIN crime_dim c on a.crime_dim_id = c.crime_dim_id\n",
    "where file_number = '1600106417'\n",
    "order by a.file_number_dim_id asc;"
   ]
  },
  {
   "cell_type": "markdown",
   "metadata": {},
   "source": [
    "#### The following statement updates the fact table with the associated offense dim id."
   ]
  },
  {
   "cell_type": "code",
   "execution_count": 54,
   "metadata": {
    "collapsed": false
   },
   "outputs": [
    {
     "name": "stdout",
     "output_type": "stream",
     "text": [
      "36715 rows affected.\n"
     ]
    },
    {
     "data": {
      "text/plain": [
       "[]"
      ]
     },
     "execution_count": 54,
     "metadata": {},
     "output_type": "execute_result"
    }
   ],
   "source": [
    "%%sql\n",
    "UPDATE \n",
    "  br_crime_fact T1  \n",
    "SET \n",
    "  offense_dim_id = T2.offense_dim_id \n",
    "FROM \n",
    "  offense_dim T2 \n",
    "  INNER JOIN BRcrime_2016 T3 ON T2.OFFENSE = T3.OFFENSE\n",
    "  INNER JOIN file_number_dim T4 ON T3.FILE_NUMBER = T4.FILE_NUMBER AND T3.FILE_NUMBER_EVNT = T4.FILE_NUMBER_EVNT\n",
    "WHERE \n",
    "  T1.FILE_NUMBER_DIM_ID = T4.FILE_NUMBER_DIM_ID\n",
    ";"
   ]
  },
  {
   "cell_type": "markdown",
   "metadata": {
    "collapsed": true
   },
   "source": [
    "#### The following statement updates the fact table with the associated complete district dim id."
   ]
  },
  {
   "cell_type": "code",
   "execution_count": 55,
   "metadata": {
    "collapsed": false
   },
   "outputs": [
    {
     "name": "stdout",
     "output_type": "stream",
     "text": [
      "36715 rows affected.\n"
     ]
    },
    {
     "data": {
      "text/plain": [
       "[]"
      ]
     },
     "execution_count": 55,
     "metadata": {},
     "output_type": "execute_result"
    }
   ],
   "source": [
    "%%sql\n",
    "UPDATE \n",
    "  br_crime_fact T1  \n",
    "SET \n",
    "  complete_district_dim_id = T2.complete_district_dim_id \n",
    "FROM \n",
    "  district_dim T2 \n",
    "  INNER JOIN BRcrime_2016 T3 ON T2.complete_district = T3.complete_district\n",
    "  INNER JOIN file_number_dim T4 ON T3.FILE_NUMBER = T4.FILE_NUMBER AND T3.FILE_NUMBER_EVNT = T4.FILE_NUMBER_EVNT\n",
    "WHERE \n",
    "  T1.FILE_NUMBER_DIM_ID = T4.FILE_NUMBER_DIM_ID\n",
    ";"
   ]
  },
  {
   "cell_type": "markdown",
   "metadata": {},
   "source": [
    "#### The following statement updates the fact table with the associated location dim id."
   ]
  },
  {
   "cell_type": "code",
   "execution_count": 56,
   "metadata": {
    "collapsed": false
   },
   "outputs": [
    {
     "name": "stdout",
     "output_type": "stream",
     "text": [
      "36715 rows affected.\n"
     ]
    },
    {
     "data": {
      "text/plain": [
       "[]"
      ]
     },
     "execution_count": 56,
     "metadata": {},
     "output_type": "execute_result"
    }
   ],
   "source": [
    "%%sql\n",
    "UPDATE \n",
    "  br_crime_fact T1  \n",
    "SET \n",
    "  location_dim_id = T2.location_dim_id \n",
    "FROM \n",
    "  location_dim T2 \n",
    "  INNER JOIN BRcrime_2016 T3 ON T2.address = T3.address \n",
    "                            and T2.st_number = T3.st_number\n",
    "                            and T2.st_dir = T3.st_dir\n",
    "                            and T2.st_name = T3.st_name\n",
    "                            and T2.st_type = T3.st_type\n",
    "                            and T2.city = T3.city\n",
    "                            and T2.state = T3.state\n",
    "                            and T2.zip = T3.zip\n",
    "                            and T2.geolocation = T3.geolocation\n",
    "  INNER JOIN file_number_dim T4 ON T3.FILE_NUMBER = T4.FILE_NUMBER AND T3.FILE_NUMBER_EVNT = T4.FILE_NUMBER_EVNT\n",
    "WHERE \n",
    "  T1.FILE_NUMBER_DIM_ID = T4.FILE_NUMBER_DIM_ID\n",
    ";"
   ]
  },
  {
   "cell_type": "markdown",
   "metadata": {
    "collapsed": true
   },
   "source": [
    "#### The following statement updates the fact table with the associated date time dim id."
   ]
  },
  {
   "cell_type": "code",
   "execution_count": 57,
   "metadata": {
    "collapsed": false
   },
   "outputs": [
    {
     "name": "stdout",
     "output_type": "stream",
     "text": [
      "36715 rows affected.\n"
     ]
    },
    {
     "data": {
      "text/plain": [
       "[]"
      ]
     },
     "execution_count": 57,
     "metadata": {},
     "output_type": "execute_result"
    }
   ],
   "source": [
    "%%sql\n",
    "UPDATE \n",
    "  br_crime_fact T1  \n",
    "SET \n",
    "  datetime_dim_id = T2.datetime_dim_id \n",
    "FROM \n",
    "  datetime_dim T2 \n",
    "  INNER JOIN BRcrime_2016 T3 ON T2.offense_date = T3.offense_date \n",
    "                            and T2.offense_time = T3.offense_time\n",
    "                            and T2.offense_day_of_year = T3.offense_day_of_year\n",
    "                            and T2.offense_year = T3.offense_year\n",
    "                            and T2.offense_month = T3.offense_month\n",
    "                            and T2.offense_day = T3.offense_day\n",
    "                            and T2.offense_day_of_week_str = T3.offense_day_of_week_str\n",
    "  INNER JOIN file_number_dim T4 ON T3.FILE_NUMBER = T4.FILE_NUMBER AND T3.FILE_NUMBER_EVNT = T4.FILE_NUMBER_EVNT\n",
    "WHERE \n",
    "  T1.FILE_NUMBER_DIM_ID = T4.FILE_NUMBER_DIM_ID\n",
    ";"
   ]
  },
  {
   "cell_type": "markdown",
   "metadata": {},
   "source": [
    "#### The following statement updates the fact table with the associated committed count."
   ]
  },
  {
   "cell_type": "code",
   "execution_count": 58,
   "metadata": {
    "collapsed": false
   },
   "outputs": [
    {
     "name": "stdout",
     "output_type": "stream",
     "text": [
      "36715 rows affected.\n"
     ]
    },
    {
     "data": {
      "text/plain": [
       "[]"
      ]
     },
     "execution_count": 58,
     "metadata": {},
     "output_type": "execute_result"
    }
   ],
   "source": [
    "%%sql\n",
    "UPDATE \n",
    "    br_crime_fact T1\n",
    "SET \n",
    "    commited_cnt = CASE\n",
    "           WHEN committed = 'COMMITTED' THEN 1 \n",
    "           ELSE 0\n",
    "        END\n",
    "FROM\n",
    "    file_number_dim T2\n",
    "WHERE\n",
    "    T1.FILE_NUMBER_DIM_ID = T2.FILE_NUMBER_DIM_ID\n",
    ";"
   ]
  },
  {
   "cell_type": "markdown",
   "metadata": {
    "collapsed": false
   },
   "source": [
    "#### The following statement updates the fact table with the associated attempted count."
   ]
  },
  {
   "cell_type": "code",
   "execution_count": 59,
   "metadata": {
    "collapsed": false
   },
   "outputs": [
    {
     "name": "stdout",
     "output_type": "stream",
     "text": [
      "36715 rows affected.\n"
     ]
    },
    {
     "data": {
      "text/plain": [
       "[]"
      ]
     },
     "execution_count": 59,
     "metadata": {},
     "output_type": "execute_result"
    }
   ],
   "source": [
    "%%sql\n",
    "UPDATE \n",
    "    br_crime_fact T1\n",
    "SET \n",
    "    attempted_cnt = CASE\n",
    "           WHEN committed = 'ATTEMPTED' THEN 1 \n",
    "           ELSE 0\n",
    "        END\n",
    "FROM\n",
    "    file_number_dim T2\n",
    "WHERE\n",
    "    T1.FILE_NUMBER_DIM_ID = T2.FILE_NUMBER_DIM_ID\n",
    ";"
   ]
  },
  {
   "cell_type": "markdown",
   "metadata": {},
   "source": [
    "#### The following statement updates the fact table with the associated personal crime count, property crime count, black market crime count, other minor crime count."
   ]
  },
  {
   "cell_type": "code",
   "execution_count": 60,
   "metadata": {
    "collapsed": false
   },
   "outputs": [
    {
     "name": "stdout",
     "output_type": "stream",
     "text": [
      "36715 rows affected.\n"
     ]
    },
    {
     "data": {
      "text/plain": [
       "[]"
      ]
     },
     "execution_count": 60,
     "metadata": {},
     "output_type": "execute_result"
    }
   ],
   "source": [
    "%%sql\n",
    "UPDATE \n",
    "    br_crime_fact T1\n",
    "SET (personal_crime_cnt,property_crime_cnt,black_market_crime_cnt,other_minor_crime_cnt) = \n",
    "    ( \n",
    "    CASE WHEN crime_type = 'PERSONAL' THEN 1 ELSE 0 END,\n",
    "    CASE WHEN crime_type = 'PROPERTY' THEN 1 ELSE 0 END,\n",
    "    CASE WHEN crime_type = 'BLACK MARKET' THEN 1 ELSE 0 END,\n",
    "    CASE WHEN crime_type = 'OTHER MINOR' THEN 1 ELSE 0 END\n",
    "    )\n",
    "FROM\n",
    "    crime_dim T2\n",
    "WHERE\n",
    "    T1.crime_dim_id = T2.crime_dim_id\n",
    ";"
   ]
  },
  {
   "cell_type": "markdown",
   "metadata": {},
   "source": [
    "#### The following statement creates a new field to count file number events.  The following code updates the fact table with this added field."
   ]
  },
  {
   "cell_type": "code",
   "execution_count": 61,
   "metadata": {
    "collapsed": false
   },
   "outputs": [
    {
     "name": "stdout",
     "output_type": "stream",
     "text": [
      "36715 rows affected.\n"
     ]
    },
    {
     "data": {
      "text/plain": [
       "[]"
      ]
     },
     "execution_count": 61,
     "metadata": {},
     "output_type": "execute_result"
    }
   ],
   "source": [
    "%%sql\n",
    "UPDATE \n",
    "    br_crime_fact T1\n",
    "SET \n",
    "    file_number_cnt = CASE\n",
    "           WHEN file_number is not null THEN 1 \n",
    "           ELSE 0\n",
    "        END\n",
    "FROM\n",
    "    file_number_dim T2\n",
    "WHERE\n",
    "    T1.FILE_NUMBER_DIM_ID = T2.FILE_NUMBER_DIM_ID\n",
    ";"
   ]
  },
  {
   "cell_type": "markdown",
   "metadata": {},
   "source": [
    "## Problem 4 - explore your data in its new schema (30 points)\n",
    "\n",
    "Strictly using the dimensional model tables you defined and populated for Problem 3, explore your data in its new form.  Use any of the query strategies we've seen in class, including transformations, aggregates, subqueries, rollups, and, of course, joins.  Add plots to highlight particular themes that stand out.  Describe your thinking and observations along the way."
   ]
  },
  {
   "cell_type": "markdown",
   "metadata": {},
   "source": [
    "The output below shows the first five records in the fact table.  Columns 1-6 are all ID columns and the remaining columns contain the facts."
   ]
  },
  {
   "cell_type": "code",
   "execution_count": 62,
   "metadata": {
    "collapsed": false
   },
   "outputs": [
    {
     "name": "stdout",
     "output_type": "stream",
     "text": [
      "5 rows affected.\n"
     ]
    },
    {
     "data": {
      "text/html": [
       "<table>\n",
       "    <tr>\n",
       "        <th>file_number_dim_id</th>\n",
       "        <th>datetime_dim_id</th>\n",
       "        <th>crime_dim_id</th>\n",
       "        <th>offense_dim_id</th>\n",
       "        <th>location_dim_id</th>\n",
       "        <th>complete_district_dim_id</th>\n",
       "        <th>file_number_cnt</th>\n",
       "        <th>commited_cnt</th>\n",
       "        <th>attempted_cnt</th>\n",
       "        <th>personal_crime_cnt</th>\n",
       "        <th>property_crime_cnt</th>\n",
       "        <th>black_market_crime_cnt</th>\n",
       "        <th>other_minor_crime_cnt</th>\n",
       "    </tr>\n",
       "    <tr>\n",
       "        <td>1</td>\n",
       "        <td>3392</td>\n",
       "        <td>11</td>\n",
       "        <td>83</td>\n",
       "        <td>7070</td>\n",
       "        <td>64</td>\n",
       "        <td>1</td>\n",
       "        <td>1</td>\n",
       "        <td>0</td>\n",
       "        <td>0</td>\n",
       "        <td>0</td>\n",
       "        <td>0</td>\n",
       "        <td>1</td>\n",
       "    </tr>\n",
       "    <tr>\n",
       "        <td>2</td>\n",
       "        <td>2759</td>\n",
       "        <td>1</td>\n",
       "        <td>300</td>\n",
       "        <td>1314</td>\n",
       "        <td>34</td>\n",
       "        <td>1</td>\n",
       "        <td>1</td>\n",
       "        <td>0</td>\n",
       "        <td>0</td>\n",
       "        <td>1</td>\n",
       "        <td>0</td>\n",
       "        <td>0</td>\n",
       "    </tr>\n",
       "    <tr>\n",
       "        <td>3</td>\n",
       "        <td>6129</td>\n",
       "        <td>4</td>\n",
       "        <td>307</td>\n",
       "        <td>113</td>\n",
       "        <td>34</td>\n",
       "        <td>1</td>\n",
       "        <td>0</td>\n",
       "        <td>1</td>\n",
       "        <td>0</td>\n",
       "        <td>1</td>\n",
       "        <td>0</td>\n",
       "        <td>0</td>\n",
       "    </tr>\n",
       "    <tr>\n",
       "        <td>4</td>\n",
       "        <td>7895</td>\n",
       "        <td>1</td>\n",
       "        <td>290</td>\n",
       "        <td>13174</td>\n",
       "        <td>44</td>\n",
       "        <td>1</td>\n",
       "        <td>1</td>\n",
       "        <td>0</td>\n",
       "        <td>0</td>\n",
       "        <td>1</td>\n",
       "        <td>0</td>\n",
       "        <td>0</td>\n",
       "    </tr>\n",
       "    <tr>\n",
       "        <td>5</td>\n",
       "        <td>7441</td>\n",
       "        <td>9</td>\n",
       "        <td>199</td>\n",
       "        <td>3264</td>\n",
       "        <td>38</td>\n",
       "        <td>1</td>\n",
       "        <td>1</td>\n",
       "        <td>0</td>\n",
       "        <td>1</td>\n",
       "        <td>0</td>\n",
       "        <td>0</td>\n",
       "        <td>0</td>\n",
       "    </tr>\n",
       "</table>"
      ],
      "text/plain": [
       "[(1, 3392, 11, 83, 7070, 64, 1, 1, 0, 0, 0, 0, 1),\n",
       " (2, 2759, 1, 300, 1314, 34, 1, 1, 0, 0, 1, 0, 0),\n",
       " (3, 6129, 4, 307, 113, 34, 1, 0, 1, 0, 1, 0, 0),\n",
       " (4, 7895, 1, 290, 13174, 44, 1, 1, 0, 0, 1, 0, 0),\n",
       " (5, 7441, 9, 199, 3264, 38, 1, 1, 0, 1, 0, 0, 0)]"
      ]
     },
     "execution_count": 62,
     "metadata": {},
     "output_type": "execute_result"
    }
   ],
   "source": [
    "%%sql\n",
    "select * \n",
    "from br_crime_fact \n",
    "limit 5;"
   ]
  },
  {
   "cell_type": "markdown",
   "metadata": {},
   "source": [
    "The code below counts the number of committed crimes in each offense month in 2016. Generally, as the months increase, it seems that the number of crimes committed is also decreasing. In November, the amount of committed crimes is much less than the other months, since the data is updated daily.  It seems that the data is on a bit of a lag, as time goes on, more crimes are discovered."
   ]
  },
  {
   "cell_type": "code",
   "execution_count": 63,
   "metadata": {
    "collapsed": false
   },
   "outputs": [
    {
     "name": "stdout",
     "output_type": "stream",
     "text": [
      "11 rows affected.\n"
     ]
    },
    {
     "data": {
      "text/html": [
       "<table>\n",
       "    <tr>\n",
       "        <th>offense_month</th>\n",
       "        <th>count</th>\n",
       "    </tr>\n",
       "    <tr>\n",
       "        <td>1</td>\n",
       "        <td>3804</td>\n",
       "    </tr>\n",
       "    <tr>\n",
       "        <td>2</td>\n",
       "        <td>3489</td>\n",
       "    </tr>\n",
       "    <tr>\n",
       "        <td>3</td>\n",
       "        <td>3897</td>\n",
       "    </tr>\n",
       "    <tr>\n",
       "        <td>4</td>\n",
       "        <td>3808</td>\n",
       "    </tr>\n",
       "    <tr>\n",
       "        <td>5</td>\n",
       "        <td>3892</td>\n",
       "    </tr>\n",
       "    <tr>\n",
       "        <td>6</td>\n",
       "        <td>3766</td>\n",
       "    </tr>\n",
       "    <tr>\n",
       "        <td>7</td>\n",
       "        <td>2992</td>\n",
       "    </tr>\n",
       "    <tr>\n",
       "        <td>8</td>\n",
       "        <td>3111</td>\n",
       "    </tr>\n",
       "    <tr>\n",
       "        <td>9</td>\n",
       "        <td>3472</td>\n",
       "    </tr>\n",
       "    <tr>\n",
       "        <td>10</td>\n",
       "        <td>3296</td>\n",
       "    </tr>\n",
       "    <tr>\n",
       "        <td>11</td>\n",
       "        <td>419</td>\n",
       "    </tr>\n",
       "</table>"
      ],
      "text/plain": [
       "[(1, 3804),\n",
       " (2, 3489),\n",
       " (3, 3897),\n",
       " (4, 3808),\n",
       " (5, 3892),\n",
       " (6, 3766),\n",
       " (7, 2992),\n",
       " (8, 3111),\n",
       " (9, 3472),\n",
       " (10, 3296),\n",
       " (11, 419)]"
      ]
     },
     "execution_count": 63,
     "metadata": {},
     "output_type": "execute_result"
    }
   ],
   "source": [
    "%%sql\n",
    "select offense_month, sum(commited_cnt) as Count\n",
    "from br_crime_fact a join datetime_dim b on a.datetime_dim_id = b.datetime_dim_id \n",
    "group by offense_month\n",
    "order by offense_month asc\n",
    ";"
   ]
  },
  {
   "cell_type": "markdown",
   "metadata": {},
   "source": [
    "Graphically, see that January through June is at a generally higher level of committed crimes than July through October.  This suggests total crimes count \"seasons\" as time goes on.  It may be best to look at 2016 at an aggregate level because of this."
   ]
  },
  {
   "cell_type": "code",
   "execution_count": 64,
   "metadata": {
    "collapsed": false
   },
   "outputs": [
    {
     "name": "stdout",
     "output_type": "stream",
     "text": [
      "Count of Committed Crimes occurring in Baton Rouge by month in 2016\r\n"
     ]
    },
    {
     "data": {
      "image/png": "[encoded data removed]",
      "text/plain": [
       "<matplotlib.figure.Figure at 0x7f65e265b198>"
      ]
     },
     "metadata": {},
     "output_type": "display_data"
    }
   ],
   "source": [
    "result = _\n",
    "result.bar()\n",
    "!echo 'Count of Committed Crimes occurring in Baton Rouge by month in 2016'"
   ]
  },
  {
   "cell_type": "markdown",
   "metadata": {},
   "source": [
    "Now, let's look at the total count of crimes, and number of crimes in each category for 2016.  The categories that we developed are Personal Crimes, Property Crimes, Black Market Crimes and Other Minor Crimes.  Assault, Battery, Homicide, and Sexual Assault all are categorized as Personal Crimes.  Business Robberies, Individual Robberies, Non-Residential Burglaries, Residential Burglaries, Vehicle Burglaries, Criminal to Property, and Theft are considered Property Crimes.  Black Market crimes include Firearm, Narcotics, and Vice.  Finally, Other Minor crimes include Other, Juvenile and Nuisance."
   ]
  },
  {
   "cell_type": "code",
   "execution_count": 65,
   "metadata": {
    "collapsed": false
   },
   "outputs": [
    {
     "name": "stdout",
     "output_type": "stream",
     "text": [
      "5 rows affected.\n"
     ]
    },
    {
     "data": {
      "text/html": [
       "<table>\n",
       "    <tr>\n",
       "        <th>offense_year</th>\n",
       "        <th>count</th>\n",
       "        <th>category</th>\n",
       "    </tr>\n",
       "    <tr>\n",
       "        <td>2016</td>\n",
       "        <td>36715</td>\n",
       "        <td>Total Crimes</td>\n",
       "    </tr>\n",
       "    <tr>\n",
       "        <td>2016</td>\n",
       "        <td>6611</td>\n",
       "        <td>Personal Crimes</td>\n",
       "    </tr>\n",
       "    <tr>\n",
       "        <td>2016</td>\n",
       "        <td>20856</td>\n",
       "        <td>Property Crimes</td>\n",
       "    </tr>\n",
       "    <tr>\n",
       "        <td>2016</td>\n",
       "        <td>6954</td>\n",
       "        <td>Black Market Crimes</td>\n",
       "    </tr>\n",
       "    <tr>\n",
       "        <td>2016</td>\n",
       "        <td>2294</td>\n",
       "        <td>Other Minor Crimes</td>\n",
       "    </tr>\n",
       "</table>"
      ],
      "text/plain": [
       "[(2016, 36715, 'Total Crimes'),\n",
       " (2016, 6611, 'Personal Crimes'),\n",
       " (2016, 20856, 'Property Crimes'),\n",
       " (2016, 6954, 'Black Market Crimes'),\n",
       " (2016, 2294, 'Other Minor Crimes')]"
      ]
     },
     "execution_count": 65,
     "metadata": {},
     "output_type": "execute_result"
    }
   ],
   "source": [
    "%%sql\n",
    "select offense_year, sum(file_number_cnt) as Count, 'Total Crimes' as Category\n",
    "from br_crime_fact a join datetime_dim b on a.datetime_dim_id = b.datetime_dim_id \n",
    "group by offense_year\n",
    "UNION ALL\n",
    "select offense_year, sum(personal_crime_cnt) as Count,  'Personal Crimes' as Category\n",
    "from br_crime_fact a join datetime_dim b on a.datetime_dim_id = b.datetime_dim_id \n",
    "group by offense_year\n",
    "UNION ALL\n",
    "select offense_year, sum(property_crime_cnt) as Count,  'Property Crimes' as Category\n",
    "from br_crime_fact a join datetime_dim b on a.datetime_dim_id = b.datetime_dim_id \n",
    "group by offense_year\n",
    "UNION ALL\n",
    "select offense_year, sum(black_market_crime_cnt) as Count,  'Black Market Crimes' as Category\n",
    "from br_crime_fact a join datetime_dim b on a.datetime_dim_id = b.datetime_dim_id \n",
    "group by offense_year\n",
    "UNION ALL\n",
    "select offense_year, sum(other_minor_crime_cnt) as Count,  'Other Minor Crimes' as Category\n",
    "from br_crime_fact a join datetime_dim b on a.datetime_dim_id = b.datetime_dim_id \n",
    "group by offense_year\n",
    ";"
   ]
  },
  {
   "cell_type": "markdown",
   "metadata": {},
   "source": [
    "As seen in the output above and the chart below, most of the crimes committed were property crimes.  This would make sense because these tend to be more common crimes, like theft and burglary.  "
   ]
  },
  {
   "cell_type": "code",
   "execution_count": 66,
   "metadata": {
    "collapsed": false
   },
   "outputs": [
    {
     "name": "stdout",
     "output_type": "stream",
     "text": [
      "Count of crime types occurring in Baton Rouge in 2016\r\n"
     ]
    },
    {
     "data": {
      "image/png": "[encoded data removed]",
      "text/plain": [
       "<matplotlib.figure.Figure at 0x7f660ee34eb8>"
      ]
     },
     "metadata": {},
     "output_type": "display_data"
    }
   ],
   "source": [
    "result = _\n",
    "result.bar()\n",
    "!echo 'Count of crime types occurring in Baton Rouge in 2016'"
   ]
  },
  {
   "cell_type": "markdown",
   "metadata": {},
   "source": [
    "The code below counts the number of crimes, both committed and attempted, which occur by category at a district level."
   ]
  },
  {
   "cell_type": "code",
   "execution_count": 67,
   "metadata": {
    "collapsed": false
   },
   "outputs": [
    {
     "name": "stdout",
     "output_type": "stream",
     "text": [
      "24 rows affected.\n"
     ]
    },
    {
     "data": {
      "text/html": [
       "<table>\n",
       "    <tr>\n",
       "        <th>count</th>\n",
       "        <th>crime_type</th>\n",
       "        <th>district</th>\n",
       "    </tr>\n",
       "    <tr>\n",
       "        <td>2092</td>\n",
       "        <td>BLACK MARKET</td>\n",
       "        <td>1</td>\n",
       "    </tr>\n",
       "    <tr>\n",
       "        <td>1777</td>\n",
       "        <td>BLACK MARKET</td>\n",
       "        <td>2</td>\n",
       "    </tr>\n",
       "    <tr>\n",
       "        <td>1268</td>\n",
       "        <td>BLACK MARKET</td>\n",
       "        <td>3</td>\n",
       "    </tr>\n",
       "    <tr>\n",
       "        <td>1372</td>\n",
       "        <td>BLACK MARKET</td>\n",
       "        <td>4</td>\n",
       "    </tr>\n",
       "    <tr>\n",
       "        <td>32</td>\n",
       "        <td>BLACK MARKET</td>\n",
       "        <td>O</td>\n",
       "    </tr>\n",
       "    <tr>\n",
       "        <td>413</td>\n",
       "        <td>BLACK MARKET</td>\n",
       "        <td>None</td>\n",
       "    </tr>\n",
       "    <tr>\n",
       "        <td>737</td>\n",
       "        <td>OTHER MINOR</td>\n",
       "        <td>1</td>\n",
       "    </tr>\n",
       "    <tr>\n",
       "        <td>499</td>\n",
       "        <td>OTHER MINOR</td>\n",
       "        <td>2</td>\n",
       "    </tr>\n",
       "    <tr>\n",
       "        <td>512</td>\n",
       "        <td>OTHER MINOR</td>\n",
       "        <td>3</td>\n",
       "    </tr>\n",
       "    <tr>\n",
       "        <td>388</td>\n",
       "        <td>OTHER MINOR</td>\n",
       "        <td>4</td>\n",
       "    </tr>\n",
       "    <tr>\n",
       "        <td>12</td>\n",
       "        <td>OTHER MINOR</td>\n",
       "        <td>O</td>\n",
       "    </tr>\n",
       "    <tr>\n",
       "        <td>146</td>\n",
       "        <td>OTHER MINOR</td>\n",
       "        <td>None</td>\n",
       "    </tr>\n",
       "    <tr>\n",
       "        <td>1869</td>\n",
       "        <td>PERSONAL</td>\n",
       "        <td>1</td>\n",
       "    </tr>\n",
       "    <tr>\n",
       "        <td>1829</td>\n",
       "        <td>PERSONAL</td>\n",
       "        <td>2</td>\n",
       "    </tr>\n",
       "    <tr>\n",
       "        <td>1311</td>\n",
       "        <td>PERSONAL</td>\n",
       "        <td>3</td>\n",
       "    </tr>\n",
       "    <tr>\n",
       "        <td>1162</td>\n",
       "        <td>PERSONAL</td>\n",
       "        <td>4</td>\n",
       "    </tr>\n",
       "    <tr>\n",
       "        <td>1</td>\n",
       "        <td>PERSONAL</td>\n",
       "        <td>O</td>\n",
       "    </tr>\n",
       "    <tr>\n",
       "        <td>439</td>\n",
       "        <td>PERSONAL</td>\n",
       "        <td>None</td>\n",
       "    </tr>\n",
       "    <tr>\n",
       "        <td>5219</td>\n",
       "        <td>PROPERTY</td>\n",
       "        <td>1</td>\n",
       "    </tr>\n",
       "    <tr>\n",
       "        <td>7231</td>\n",
       "        <td>PROPERTY</td>\n",
       "        <td>2</td>\n",
       "    </tr>\n",
       "    <tr>\n",
       "        <td>3817</td>\n",
       "        <td>PROPERTY</td>\n",
       "        <td>3</td>\n",
       "    </tr>\n",
       "    <tr>\n",
       "        <td>3406</td>\n",
       "        <td>PROPERTY</td>\n",
       "        <td>4</td>\n",
       "    </tr>\n",
       "    <tr>\n",
       "        <td>24</td>\n",
       "        <td>PROPERTY</td>\n",
       "        <td>O</td>\n",
       "    </tr>\n",
       "    <tr>\n",
       "        <td>1159</td>\n",
       "        <td>PROPERTY</td>\n",
       "        <td>None</td>\n",
       "    </tr>\n",
       "</table>"
      ],
      "text/plain": [
       "[(2092, 'BLACK MARKET', '1'),\n",
       " (1777, 'BLACK MARKET', '2'),\n",
       " (1268, 'BLACK MARKET', '3'),\n",
       " (1372, 'BLACK MARKET', '4'),\n",
       " (32, 'BLACK MARKET', 'O'),\n",
       " (413, 'BLACK MARKET', None),\n",
       " (737, 'OTHER MINOR', '1'),\n",
       " (499, 'OTHER MINOR', '2'),\n",
       " (512, 'OTHER MINOR', '3'),\n",
       " (388, 'OTHER MINOR', '4'),\n",
       " (12, 'OTHER MINOR', 'O'),\n",
       " (146, 'OTHER MINOR', None),\n",
       " (1869, 'PERSONAL', '1'),\n",
       " (1829, 'PERSONAL', '2'),\n",
       " (1311, 'PERSONAL', '3'),\n",
       " (1162, 'PERSONAL', '4'),\n",
       " (1, 'PERSONAL', 'O'),\n",
       " (439, 'PERSONAL', None),\n",
       " (5219, 'PROPERTY', '1'),\n",
       " (7231, 'PROPERTY', '2'),\n",
       " (3817, 'PROPERTY', '3'),\n",
       " (3406, 'PROPERTY', '4'),\n",
       " (24, 'PROPERTY', 'O'),\n",
       " (1159, 'PROPERTY', None)]"
      ]
     },
     "execution_count": 67,
     "metadata": {},
     "output_type": "execute_result"
    }
   ],
   "source": [
    "%%sql\n",
    "select count(*), crime_type, district\n",
    "from br_crime_fact a join crime_dim b on a.crime_dim_id = b.crime_dim_id\n",
    "                     join district_dim c on a.complete_district_dim_id = c.complete_district_dim_id\n",
    "group by crime_type, district\n",
    "order by crime_type, district\n",
    ";"
   ]
  },
  {
   "cell_type": "markdown",
   "metadata": {},
   "source": [
    "District 2 seems to have a generally higher rate of crime for all of the categories.  "
   ]
  },
  {
   "cell_type": "code",
   "execution_count": 68,
   "metadata": {
    "collapsed": false
   },
   "outputs": [
    {
     "name": "stdout",
     "output_type": "stream",
     "text": [
      "Count of crime types in each district\r\n"
     ]
    },
    {
     "data": {
      "image/png": "[encoded data removed]",
      "text/plain": [
       "<matplotlib.figure.Figure at 0x7f65e260b828>"
      ]
     },
     "metadata": {},
     "output_type": "display_data"
    }
   ],
   "source": [
    "result = _\n",
    "result.bar()\n",
    "!echo 'Count of crime types in each district'"
   ]
  },
  {
   "cell_type": "markdown",
   "metadata": {},
   "source": [
    "Below is a list of the top 10 zip codes for which crimes are committed and attempted.  As mentioned previously, the most frequent address in the datset is the address of the Baton Rouge Police Station.  The most frequent zip code for committed crimes corresponds with this address.  It would make sense that committed crimes occurred close to the police station, as most crimes associated with arrest may be recorded as occurring at the police station.  The attempted count does not follow the same pattern.  The most frequent zip code for attempted crimes is the second most frequent zip code for committed crimes. "
   ]
  },
  {
   "cell_type": "code",
   "execution_count": 70,
   "metadata": {
    "collapsed": false
   },
   "outputs": [
    {
     "name": "stdout",
     "output_type": "stream",
     "text": [
      "10 rows affected.\n"
     ]
    },
    {
     "data": {
      "text/html": [
       "<table>\n",
       "    <tr>\n",
       "        <th>zip</th>\n",
       "        <th>committed</th>\n",
       "        <th>attempted</th>\n",
       "    </tr>\n",
       "    <tr>\n",
       "        <td>70805    </td>\n",
       "        <td>4619</td>\n",
       "        <td>75</td>\n",
       "    </tr>\n",
       "    <tr>\n",
       "        <td>70802    </td>\n",
       "        <td>3544</td>\n",
       "        <td>81</td>\n",
       "    </tr>\n",
       "    <tr>\n",
       "        <td>70815    </td>\n",
       "        <td>2164</td>\n",
       "        <td>45</td>\n",
       "    </tr>\n",
       "    <tr>\n",
       "        <td>70806    </td>\n",
       "        <td>1814</td>\n",
       "        <td>69</td>\n",
       "    </tr>\n",
       "    <tr>\n",
       "        <td>70816    </td>\n",
       "        <td>1695</td>\n",
       "        <td>36</td>\n",
       "    </tr>\n",
       "    <tr>\n",
       "        <td>70807    </td>\n",
       "        <td>1563</td>\n",
       "        <td>33</td>\n",
       "    </tr>\n",
       "    <tr>\n",
       "        <td>70808    </td>\n",
       "        <td>1314</td>\n",
       "        <td>24</td>\n",
       "    </tr>\n",
       "    <tr>\n",
       "        <td>70820    </td>\n",
       "        <td>846</td>\n",
       "        <td>12</td>\n",
       "    </tr>\n",
       "    <tr>\n",
       "        <td>70811    </td>\n",
       "        <td>354</td>\n",
       "        <td>7</td>\n",
       "    </tr>\n",
       "    <tr>\n",
       "        <td>70814    </td>\n",
       "        <td>345</td>\n",
       "        <td>8</td>\n",
       "    </tr>\n",
       "</table>"
      ],
      "text/plain": [
       "[('70805    ', 4619, 75),\n",
       " ('70802    ', 3544, 81),\n",
       " ('70815    ', 2164, 45),\n",
       " ('70806    ', 1814, 69),\n",
       " ('70816    ', 1695, 36),\n",
       " ('70807    ', 1563, 33),\n",
       " ('70808    ', 1314, 24),\n",
       " ('70820    ', 846, 12),\n",
       " ('70811    ', 354, 7),\n",
       " ('70814    ', 345, 8)]"
      ]
     },
     "execution_count": 70,
     "metadata": {},
     "output_type": "execute_result"
    }
   ],
   "source": [
    "%%sql\n",
    "select zip, sum(commited_cnt) as committed, sum(attempted_cnt) as attempted\n",
    "from br_crime_fact a join location_dim b on a.location_dim_id = b.location_dim_id\n",
    "where zip <> 'Null'\n",
    "group by zip\n",
    "order by sum(commited_cnt) desc\n",
    "limit 10\n",
    ";"
   ]
  },
  {
   "cell_type": "code",
   "execution_count": 71,
   "metadata": {
    "collapsed": false
   },
   "outputs": [
    {
     "data": {
      "text/plain": [
       "<matplotlib.axes._subplots.AxesSubplot at 0x7f65e2583780>"
      ]
     },
     "execution_count": 71,
     "metadata": {},
     "output_type": "execute_result"
    },
    {
     "data": {
      "image/png": "[encoded data removed]",
      "text/plain": [
       "<matplotlib.figure.Figure at 0x7f65e26d2d68>"
      ]
     },
     "metadata": {},
     "output_type": "display_data"
    }
   ],
   "source": [
    "import matplotlib as plt\n",
    "df = _.DataFrame()\n",
    "df.plot(x='zip', secondary_y='attempted', kind = 'bar')"
   ]
  },
  {
   "cell_type": "markdown",
   "metadata": {},
   "source": [
    "The following code shows the top 10 offenses occurring on a Friday.  The output is not incredibly surprising. There are some crimes associated with drugs an alcohol, as well as more common crimes such as theft."
   ]
  },
  {
   "cell_type": "code",
   "execution_count": 81,
   "metadata": {
    "collapsed": false
   },
   "outputs": [
    {
     "name": "stdout",
     "output_type": "stream",
     "text": [
      "10 rows affected.\n"
     ]
    },
    {
     "data": {
      "text/html": [
       "<table>\n",
       "    <tr>\n",
       "        <th>offense_description</th>\n",
       "        <th>committed</th>\n",
       "    </tr>\n",
       "    <tr>\n",
       "        <td>THEFT/MISD/CC</td>\n",
       "        <td>289</td>\n",
       "    </tr>\n",
       "    <tr>\n",
       "        <td>CRIM DAM TO PROP/SIMPLE/CC</td>\n",
       "        <td>271</td>\n",
       "    </tr>\n",
       "    <tr>\n",
       "        <td>BATT/SIMPLE/CC</td>\n",
       "        <td>237</td>\n",
       "    </tr>\n",
       "    <tr>\n",
       "        <td>THEFT OVER $200 ALL OTHER</td>\n",
       "        <td>191</td>\n",
       "    </tr>\n",
       "    <tr>\n",
       "        <td>BURG/AUTO OVER $200</td>\n",
       "        <td>180</td>\n",
       "    </tr>\n",
       "    <tr>\n",
       "        <td>POSS MARIJUANA/CC</td>\n",
       "        <td>171</td>\n",
       "    </tr>\n",
       "    <tr>\n",
       "        <td>D W I /CC</td>\n",
       "        <td>156</td>\n",
       "    </tr>\n",
       "    <tr>\n",
       "        <td>DRINKING IN PUBLIC/CC</td>\n",
       "        <td>146</td>\n",
       "    </tr>\n",
       "    <tr>\n",
       "        <td>THEFT/MISD/SHOPLIFTING/CC</td>\n",
       "        <td>141</td>\n",
       "    </tr>\n",
       "    <tr>\n",
       "        <td>PURCH/POSS ALC PERS UNDER 21/CC</td>\n",
       "        <td>133</td>\n",
       "    </tr>\n",
       "</table>"
      ],
      "text/plain": [
       "[('THEFT/MISD/CC', 289),\n",
       " ('CRIM DAM TO PROP/SIMPLE/CC', 271),\n",
       " ('BATT/SIMPLE/CC', 237),\n",
       " ('THEFT OVER $200 ALL OTHER', 191),\n",
       " ('BURG/AUTO OVER $200', 180),\n",
       " ('POSS MARIJUANA/CC', 171),\n",
       " ('D W I /CC', 156),\n",
       " ('DRINKING IN PUBLIC/CC', 146),\n",
       " ('THEFT/MISD/SHOPLIFTING/CC', 141),\n",
       " ('PURCH/POSS ALC PERS UNDER 21/CC', 133)]"
      ]
     },
     "execution_count": 81,
     "metadata": {},
     "output_type": "execute_result"
    }
   ],
   "source": [
    "%%sql\n",
    "select offense_description, sum(a.commited_cnt) as committed\n",
    "from br_crime_fact a join offense_dim b on a.offense_dim_id = b.offense_dim_id\n",
    "                     join datetime_dim c on a.datetime_dim_id = c.datetime_dim_id\n",
    "where offense_day_of_week_str = 'Friday'\n",
    "group by offense_description\n",
    "order by sum(commited_cnt) desc\n",
    "limit 10\n",
    ";"
   ]
  },
  {
   "cell_type": "code",
   "execution_count": 82,
   "metadata": {
    "collapsed": false
   },
   "outputs": [
    {
     "name": "stdout",
     "output_type": "stream",
     "text": [
      "Top 10 Offenses that occurs on a Friday\r\n"
     ]
    },
    {
     "data": {
      "image/png": "[encoded data removed]",
      "text/plain": [
       "<matplotlib.figure.Figure at 0x7f65e05b8898>"
      ]
     },
     "metadata": {},
     "output_type": "display_data"
    }
   ],
   "source": [
    "result = _\n",
    "result.bar()\n",
    "!echo 'Top 10 Offenses that occurs on a Friday'"
   ]
  },
  {
   "cell_type": "markdown",
   "metadata": {},
   "source": [
    "We would thing that more crimes would intuitively occur during the weekend, when people are not in work, and may be exposed to substances that would impair judgement.  To prove this, the code below counts the crimes for each of the days of the week.  It seems that most crimes occur on Fridays and Saturdays, as we would expect.  "
   ]
  },
  {
   "cell_type": "code",
   "execution_count": 84,
   "metadata": {
    "collapsed": false
   },
   "outputs": [
    {
     "name": "stdout",
     "output_type": "stream",
     "text": [
      "7 rows affected.\n"
     ]
    },
    {
     "data": {
      "text/html": [
       "<table>\n",
       "    <tr>\n",
       "        <th>count</th>\n",
       "        <th>offense_day_of_week_str</th>\n",
       "    </tr>\n",
       "    <tr>\n",
       "        <td>4958</td>\n",
       "        <td>Sunday</td>\n",
       "    </tr>\n",
       "    <tr>\n",
       "        <td>4666</td>\n",
       "        <td>Monday</td>\n",
       "    </tr>\n",
       "    <tr>\n",
       "        <td>5100</td>\n",
       "        <td>Tuesday</td>\n",
       "    </tr>\n",
       "    <tr>\n",
       "        <td>5200</td>\n",
       "        <td>Wednesday</td>\n",
       "    </tr>\n",
       "    <tr>\n",
       "        <td>5500</td>\n",
       "        <td>Thursday</td>\n",
       "    </tr>\n",
       "    <tr>\n",
       "        <td>5641</td>\n",
       "        <td>Friday</td>\n",
       "    </tr>\n",
       "    <tr>\n",
       "        <td>5650</td>\n",
       "        <td>Saturday</td>\n",
       "    </tr>\n",
       "</table>"
      ],
      "text/plain": [
       "[(4958, 'Sunday'),\n",
       " (4666, 'Monday'),\n",
       " (5100, 'Tuesday'),\n",
       " (5200, 'Wednesday'),\n",
       " (5500, 'Thursday'),\n",
       " (5641, 'Friday'),\n",
       " (5650, 'Saturday')]"
      ]
     },
     "execution_count": 84,
     "metadata": {},
     "output_type": "execute_result"
    }
   ],
   "source": [
    "%%sql\n",
    "select count(*), offense_day_of_week_str\n",
    "from br_crime_fact a join datetime_dim c on a.datetime_dim_id = c.datetime_dim_id\n",
    "group by offense_day_of_week_str\n",
    "order by CASE offense_day_of_week_str\n",
    "    WHEN 'Sunday' THEN 1\n",
    "    WHEN 'Monday' THEN 2\n",
    "    WHEN 'Tuesday' THEN 3\n",
    "    WHEN 'Wednesday' THEN 4\n",
    "    WHEN 'Thursday' THEN 5\n",
    "    WHEN 'Friday' THEN 6\n",
    "    ELSE 7\n",
    "END\n",
    ";"
   ]
  },
  {
   "cell_type": "code",
   "execution_count": 86,
   "metadata": {
    "collapsed": false,
    "scrolled": true
   },
   "outputs": [
    {
     "name": "stdout",
     "output_type": "stream",
     "text": [
      "Number of Crimes by Day of the Week in 2016\r\n"
     ]
    },
    {
     "data": {
      "image/png": "[encoded data removed]",
      "text/plain": [
       "<matplotlib.figure.Figure at 0x7f65dd675dd8>"
      ]
     },
     "metadata": {},
     "output_type": "display_data"
    }
   ],
   "source": [
    "result = _\n",
    "result.bar()\n",
    "!echo 'Number of Crimes by Day of the Week in 2016'"
   ]
  },
  {
   "cell_type": "markdown",
   "metadata": {},
   "source": [
    "From our analysis, it seems that the patterns of committed and reported crimes relates heavily to location of police station and whether the day of the week is a weekend night. It is more likely for police to be alert and aware of criminal activity occuring close to the station, and also for police to be more alert to criminal activity on a weekend night when this activity would be expected.  \n",
    "\n",
    "This suggests that presence of police indicates a greater likelihood of crimes being reported/committed in a file report.  If we were to continue this analysis and gather more data, it would be interesting to have some more information on police presence.  An example of a column would be number of officers patrolling area within X miles.  With this information, we could account for the strong correlation between the amount of committed crimes committed and police presence.  This may uncover patterns in the data related to attempted and committed crimes that could be currently overshadowed."
   ]
  },
  {
   "cell_type": "markdown",
   "metadata": {},
   "source": [
    "## Bonus (10 points for one of A or B)\n",
    "\n",
    "\n",
    "### Option A - Automating ETL\n",
    "\n",
    "Consider the work you did to load your original raw dataset and then transform it into a dimensional model for analysis.  What would it take to automate this process?  How often would you need to update the data?  Could you easily automate any data cleaning steps?  What checks would you need to put in place to ensure quality?  Would humans need to be involved, or could you automate it all?\n",
    "\n",
    "Discuss.\n",
    "\n",
    "\n",
    "### Option B - Augmenting dimensions\n",
    "\n",
    "Considering your dimensional model, what external data could you find to augment it?  As in the case of bike trips, where weather might provide an interesting added dimension/context not present in the original data, you can probably find another source of data to complement your own model.  Identify one such source and add it to your model, demonstrating its value with a few new queries."
   ]
  },
  {
   "cell_type": "markdown",
   "metadata": {},
   "source": [
    "###### What would it take to automate this process?    \n",
    "\n",
    "One key thing to automating this process is to have a last updated timestamp in all the tables. Thus, we would only need to check the last updated timestamp for new records. For instance, if the last updated timestamp has changed for the unique key, then we could do a comparison to see what information change and update accordingly. Additionally, it would also identify any new records. However, in order for all this be automated, we would need to define a primary key. Currently, we are defining the unique key after the fact, however, in order to automate this process, we would need to have the primary key defined. We would need to write a stored procedure to check on the last update timestamp and primary key and then insert/update accordingly. \n",
    "\n",
    "###### How often would you need to update the data?\n",
    "\n",
    "Ideally, it would be nice to have the data updated in real time. However, this is usually not feasible or practical. So, a daily update should be sufficient. Depending on the industry, it could range from couple hundreds of new records to a couple million records each day. At NSF, we typically see a couple thousands new records each day, which takes roughly 2-3 hours to process. Our cut off to process new data is 11:59 pm that day and usually run the ETL process around 2am, so that new data can be brought into the data warehouse before the start of the new day, which in my case is 6 am. \n",
    "\n",
    "###### Could you easily automate any data cleaning steps?\n",
    "\n",
    "We could easily automate any data cleaning steps by creating a stored procedure to update any nulls or update the dimension tables if there are new categorization for crime, offense, and location. We had nulls in our address, street number, complete district and many others fields. A stored procedure to update the nulls would automate the data cleaning process.\n",
    "\n",
    "###### What checks would you need to put in place to ensure quality? Would humans need to be involved, or could you automate it all?\n",
    "\n",
    "In this particular case, humans should be involved, however, only very minimally. Since the Baton Rouge crime data does not have a unique key (the same file number can have multiple crimes and offenses associated to it), we needed to create a unique key. With that said, we would need to have a check in place to capture duplicate records. Perhaps create a stored procedure to trigger a warning and to store the potential duplicate in a separate table, which would later be validated by a user before we load the data into fact and dimension tables."
   ]
  },
  {
   "cell_type": "code",
   "execution_count": null,
   "metadata": {
    "collapsed": true
   },
   "outputs": [],
   "source": []
  }
 ],
 "metadata": {
  "anaconda-cloud": {},
  "kernelspec": {
   "display_name": "Python 3",
   "language": "python",
   "name": "python3"
  },
  "language_info": {
   "codemirror_mode": {
    "name": "ipython",
    "version": 3
   },
   "file_extension": ".py",
   "mimetype": "text/x-python",
   "name": "python",
   "nbconvert_exporter": "python",
   "pygments_lexer": "ipython3",
   "version": "3.5.2"
  }
 },
 "nbformat": 4,
 "nbformat_minor": 1
}
